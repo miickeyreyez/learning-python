{
 "cells": [
  {
   "cell_type": "code",
   "execution_count": 2,
   "metadata": {},
   "outputs": [],
   "source": [
    "import pandas\n",
    "from datetime import datetime\n",
    "from pytz import utc\n",
    "import matplotlib.pyplot as plt\n",
    "data = pandas.read_csv(\"reviews.csv\", parse_dates=['Timestamp'])"
   ]
  },
  {
   "cell_type": "code",
   "execution_count": 3,
   "metadata": {},
   "outputs": [
    {
     "data": {
      "text/html": [
       "<div>\n",
       "<style scoped>\n",
       "    .dataframe tbody tr th:only-of-type {\n",
       "        vertical-align: middle;\n",
       "    }\n",
       "\n",
       "    .dataframe tbody tr th {\n",
       "        vertical-align: top;\n",
       "    }\n",
       "\n",
       "    .dataframe thead th {\n",
       "        text-align: right;\n",
       "    }\n",
       "</style>\n",
       "<table border=\"1\" class=\"dataframe\">\n",
       "  <thead>\n",
       "    <tr style=\"text-align: right;\">\n",
       "      <th></th>\n",
       "      <th>Course Name</th>\n",
       "      <th>Timestamp</th>\n",
       "      <th>Rating</th>\n",
       "      <th>Comment</th>\n",
       "    </tr>\n",
       "  </thead>\n",
       "  <tbody>\n",
       "    <tr>\n",
       "      <th>0</th>\n",
       "      <td>The Python Mega Course: Build 10 Real World Ap...</td>\n",
       "      <td>2021-04-02 06:25:52+00:00</td>\n",
       "      <td>4.0</td>\n",
       "      <td>NaN</td>\n",
       "    </tr>\n",
       "    <tr>\n",
       "      <th>1</th>\n",
       "      <td>The Python Mega Course: Build 10 Real World Ap...</td>\n",
       "      <td>2021-04-02 05:12:34+00:00</td>\n",
       "      <td>4.0</td>\n",
       "      <td>NaN</td>\n",
       "    </tr>\n",
       "    <tr>\n",
       "      <th>2</th>\n",
       "      <td>The Python Mega Course: Build 10 Real World Ap...</td>\n",
       "      <td>2021-04-02 05:11:03+00:00</td>\n",
       "      <td>4.0</td>\n",
       "      <td>NaN</td>\n",
       "    </tr>\n",
       "    <tr>\n",
       "      <th>3</th>\n",
       "      <td>The Python Mega Course: Build 10 Real World Ap...</td>\n",
       "      <td>2021-04-02 03:33:24+00:00</td>\n",
       "      <td>5.0</td>\n",
       "      <td>NaN</td>\n",
       "    </tr>\n",
       "    <tr>\n",
       "      <th>4</th>\n",
       "      <td>The Python Mega Course: Build 10 Real World Ap...</td>\n",
       "      <td>2021-04-02 03:31:49+00:00</td>\n",
       "      <td>4.5</td>\n",
       "      <td>NaN</td>\n",
       "    </tr>\n",
       "    <tr>\n",
       "      <th>...</th>\n",
       "      <td>...</td>\n",
       "      <td>...</td>\n",
       "      <td>...</td>\n",
       "      <td>...</td>\n",
       "    </tr>\n",
       "    <tr>\n",
       "      <th>44995</th>\n",
       "      <td>Python for Beginners with Examples</td>\n",
       "      <td>2018-01-01 01:11:26+00:00</td>\n",
       "      <td>4.0</td>\n",
       "      <td>NaN</td>\n",
       "    </tr>\n",
       "    <tr>\n",
       "      <th>44996</th>\n",
       "      <td>The Python Mega Course: Build 10 Real World Ap...</td>\n",
       "      <td>2018-01-01 01:09:56+00:00</td>\n",
       "      <td>5.0</td>\n",
       "      <td>NaN</td>\n",
       "    </tr>\n",
       "    <tr>\n",
       "      <th>44997</th>\n",
       "      <td>The Python Mega Course: Build 10 Real World Ap...</td>\n",
       "      <td>2018-01-01 01:08:11+00:00</td>\n",
       "      <td>5.0</td>\n",
       "      <td>NaN</td>\n",
       "    </tr>\n",
       "    <tr>\n",
       "      <th>44998</th>\n",
       "      <td>Python for Beginners with Examples</td>\n",
       "      <td>2018-01-01 01:05:26+00:00</td>\n",
       "      <td>5.0</td>\n",
       "      <td>NaN</td>\n",
       "    </tr>\n",
       "    <tr>\n",
       "      <th>44999</th>\n",
       "      <td>The Python Mega Course: Build 10 Real World Ap...</td>\n",
       "      <td>2018-01-01 01:01:16+00:00</td>\n",
       "      <td>5.0</td>\n",
       "      <td>NaN</td>\n",
       "    </tr>\n",
       "  </tbody>\n",
       "</table>\n",
       "<p>45000 rows × 4 columns</p>\n",
       "</div>"
      ],
      "text/plain": [
       "                                             Course Name  \\\n",
       "0      The Python Mega Course: Build 10 Real World Ap...   \n",
       "1      The Python Mega Course: Build 10 Real World Ap...   \n",
       "2      The Python Mega Course: Build 10 Real World Ap...   \n",
       "3      The Python Mega Course: Build 10 Real World Ap...   \n",
       "4      The Python Mega Course: Build 10 Real World Ap...   \n",
       "...                                                  ...   \n",
       "44995                 Python for Beginners with Examples   \n",
       "44996  The Python Mega Course: Build 10 Real World Ap...   \n",
       "44997  The Python Mega Course: Build 10 Real World Ap...   \n",
       "44998                 Python for Beginners with Examples   \n",
       "44999  The Python Mega Course: Build 10 Real World Ap...   \n",
       "\n",
       "                       Timestamp  Rating Comment  \n",
       "0      2021-04-02 06:25:52+00:00     4.0     NaN  \n",
       "1      2021-04-02 05:12:34+00:00     4.0     NaN  \n",
       "2      2021-04-02 05:11:03+00:00     4.0     NaN  \n",
       "3      2021-04-02 03:33:24+00:00     5.0     NaN  \n",
       "4      2021-04-02 03:31:49+00:00     4.5     NaN  \n",
       "...                          ...     ...     ...  \n",
       "44995  2018-01-01 01:11:26+00:00     4.0     NaN  \n",
       "44996  2018-01-01 01:09:56+00:00     5.0     NaN  \n",
       "44997  2018-01-01 01:08:11+00:00     5.0     NaN  \n",
       "44998  2018-01-01 01:05:26+00:00     5.0     NaN  \n",
       "44999  2018-01-01 01:01:16+00:00     5.0     NaN  \n",
       "\n",
       "[45000 rows x 4 columns]"
      ]
     },
     "execution_count": 3,
     "metadata": {},
     "output_type": "execute_result"
    }
   ],
   "source": [
    "data"
   ]
  },
  {
   "cell_type": "code",
   "execution_count": 4,
   "metadata": {},
   "outputs": [
    {
     "data": {
      "text/plain": [
       "(45000, 4)"
      ]
     },
     "execution_count": 4,
     "metadata": {},
     "output_type": "execute_result"
    }
   ],
   "source": [
    "data.shape"
   ]
  },
  {
   "cell_type": "code",
   "execution_count": 5,
   "metadata": {},
   "outputs": [
    {
     "data": {
      "text/plain": [
       "Index(['Course Name', 'Timestamp', 'Rating', 'Comment'], dtype='object')"
      ]
     },
     "execution_count": 5,
     "metadata": {},
     "output_type": "execute_result"
    }
   ],
   "source": [
    "data.columns"
   ]
  },
  {
   "cell_type": "code",
   "execution_count": 6,
   "metadata": {},
   "outputs": [
    {
     "data": {
      "text/plain": [
       "array([[<matplotlib.axes._subplots.AxesSubplot object at 0x7fbbd8496e50>]],\n",
       "      dtype=object)"
      ]
     },
     "execution_count": 6,
     "metadata": {},
     "output_type": "execute_result"
    },
    {
     "data": {
      "image/png": "[encoded data removed]",
      "text/plain": [
       "<Figure size 432x288 with 1 Axes>"
      ]
     },
     "metadata": {
      "needs_background": "light"
     },
     "output_type": "display_data"
    }
   ],
   "source": [
    "data.hist('Rating')"
   ]
  },
  {
   "cell_type": "code",
   "execution_count": 9,
   "metadata": {},
   "outputs": [
    {
     "data": {
      "text/plain": [
       "0        4.0\n",
       "1        4.0\n",
       "2        4.0\n",
       "3        5.0\n",
       "4        4.5\n",
       "        ... \n",
       "44995    4.0\n",
       "44996    5.0\n",
       "44997    5.0\n",
       "44998    5.0\n",
       "44999    5.0\n",
       "Name: Rating, Length: 45000, dtype: float64"
      ]
     },
     "execution_count": 9,
     "metadata": {},
     "output_type": "execute_result"
    }
   ],
   "source": [
    "data['Rating']"
   ]
  },
  {
   "cell_type": "code",
   "execution_count": 10,
   "metadata": {},
   "outputs": [
    {
     "data": {
      "text/plain": [
       "4.442155555555556"
      ]
     },
     "execution_count": 10,
     "metadata": {},
     "output_type": "execute_result"
    }
   ],
   "source": [
    "data['Rating'].mean()"
   ]
  },
  {
   "cell_type": "code",
   "execution_count": 11,
   "metadata": {},
   "outputs": [
    {
     "data": {
      "text/html": [
       "<div>\n",
       "<style scoped>\n",
       "    .dataframe tbody tr th:only-of-type {\n",
       "        vertical-align: middle;\n",
       "    }\n",
       "\n",
       "    .dataframe tbody tr th {\n",
       "        vertical-align: top;\n",
       "    }\n",
       "\n",
       "    .dataframe thead th {\n",
       "        text-align: right;\n",
       "    }\n",
       "</style>\n",
       "<table border=\"1\" class=\"dataframe\">\n",
       "  <thead>\n",
       "    <tr style=\"text-align: right;\">\n",
       "      <th></th>\n",
       "      <th>Rating</th>\n",
       "      <th>Course Name</th>\n",
       "    </tr>\n",
       "  </thead>\n",
       "  <tbody>\n",
       "    <tr>\n",
       "      <th>0</th>\n",
       "      <td>4.0</td>\n",
       "      <td>The Python Mega Course: Build 10 Real World Ap...</td>\n",
       "    </tr>\n",
       "    <tr>\n",
       "      <th>1</th>\n",
       "      <td>4.0</td>\n",
       "      <td>The Python Mega Course: Build 10 Real World Ap...</td>\n",
       "    </tr>\n",
       "    <tr>\n",
       "      <th>2</th>\n",
       "      <td>4.0</td>\n",
       "      <td>The Python Mega Course: Build 10 Real World Ap...</td>\n",
       "    </tr>\n",
       "    <tr>\n",
       "      <th>3</th>\n",
       "      <td>5.0</td>\n",
       "      <td>The Python Mega Course: Build 10 Real World Ap...</td>\n",
       "    </tr>\n",
       "    <tr>\n",
       "      <th>4</th>\n",
       "      <td>4.5</td>\n",
       "      <td>The Python Mega Course: Build 10 Real World Ap...</td>\n",
       "    </tr>\n",
       "    <tr>\n",
       "      <th>...</th>\n",
       "      <td>...</td>\n",
       "      <td>...</td>\n",
       "    </tr>\n",
       "    <tr>\n",
       "      <th>44995</th>\n",
       "      <td>4.0</td>\n",
       "      <td>Python for Beginners with Examples</td>\n",
       "    </tr>\n",
       "    <tr>\n",
       "      <th>44996</th>\n",
       "      <td>5.0</td>\n",
       "      <td>The Python Mega Course: Build 10 Real World Ap...</td>\n",
       "    </tr>\n",
       "    <tr>\n",
       "      <th>44997</th>\n",
       "      <td>5.0</td>\n",
       "      <td>The Python Mega Course: Build 10 Real World Ap...</td>\n",
       "    </tr>\n",
       "    <tr>\n",
       "      <th>44998</th>\n",
       "      <td>5.0</td>\n",
       "      <td>Python for Beginners with Examples</td>\n",
       "    </tr>\n",
       "    <tr>\n",
       "      <th>44999</th>\n",
       "      <td>5.0</td>\n",
       "      <td>The Python Mega Course: Build 10 Real World Ap...</td>\n",
       "    </tr>\n",
       "  </tbody>\n",
       "</table>\n",
       "<p>45000 rows × 2 columns</p>\n",
       "</div>"
      ],
      "text/plain": [
       "       Rating                                        Course Name\n",
       "0         4.0  The Python Mega Course: Build 10 Real World Ap...\n",
       "1         4.0  The Python Mega Course: Build 10 Real World Ap...\n",
       "2         4.0  The Python Mega Course: Build 10 Real World Ap...\n",
       "3         5.0  The Python Mega Course: Build 10 Real World Ap...\n",
       "4         4.5  The Python Mega Course: Build 10 Real World Ap...\n",
       "...       ...                                                ...\n",
       "44995     4.0                 Python for Beginners with Examples\n",
       "44996     5.0  The Python Mega Course: Build 10 Real World Ap...\n",
       "44997     5.0  The Python Mega Course: Build 10 Real World Ap...\n",
       "44998     5.0                 Python for Beginners with Examples\n",
       "44999     5.0  The Python Mega Course: Build 10 Real World Ap...\n",
       "\n",
       "[45000 rows x 2 columns]"
      ]
     },
     "execution_count": 11,
     "metadata": {},
     "output_type": "execute_result"
    }
   ],
   "source": [
    "data[['Rating', 'Course Name']]"
   ]
  },
  {
   "cell_type": "code",
   "execution_count": 12,
   "metadata": {},
   "outputs": [
    {
     "data": {
      "text/plain": [
       "Course Name    The Python Mega Course: Build 10 Real World Ap...\n",
       "Timestamp                              2021-04-02 03:33:24+00:00\n",
       "Rating                                                         5\n",
       "Comment                                                      NaN\n",
       "Name: 3, dtype: object"
      ]
     },
     "execution_count": 12,
     "metadata": {},
     "output_type": "execute_result"
    }
   ],
   "source": [
    "data.iloc[3]"
   ]
  },
  {
   "cell_type": "code",
   "execution_count": 13,
   "metadata": {},
   "outputs": [
    {
     "data": {
      "text/html": [
       "<div>\n",
       "<style scoped>\n",
       "    .dataframe tbody tr th:only-of-type {\n",
       "        vertical-align: middle;\n",
       "    }\n",
       "\n",
       "    .dataframe tbody tr th {\n",
       "        vertical-align: top;\n",
       "    }\n",
       "\n",
       "    .dataframe thead th {\n",
       "        text-align: right;\n",
       "    }\n",
       "</style>\n",
       "<table border=\"1\" class=\"dataframe\">\n",
       "  <thead>\n",
       "    <tr style=\"text-align: right;\">\n",
       "      <th></th>\n",
       "      <th>Course Name</th>\n",
       "      <th>Timestamp</th>\n",
       "      <th>Rating</th>\n",
       "      <th>Comment</th>\n",
       "    </tr>\n",
       "  </thead>\n",
       "  <tbody>\n",
       "    <tr>\n",
       "      <th>1</th>\n",
       "      <td>The Python Mega Course: Build 10 Real World Ap...</td>\n",
       "      <td>2021-04-02 05:12:34+00:00</td>\n",
       "      <td>4.0</td>\n",
       "      <td>NaN</td>\n",
       "    </tr>\n",
       "    <tr>\n",
       "      <th>2</th>\n",
       "      <td>The Python Mega Course: Build 10 Real World Ap...</td>\n",
       "      <td>2021-04-02 05:11:03+00:00</td>\n",
       "      <td>4.0</td>\n",
       "      <td>NaN</td>\n",
       "    </tr>\n",
       "  </tbody>\n",
       "</table>\n",
       "</div>"
      ],
      "text/plain": [
       "                                         Course Name  \\\n",
       "1  The Python Mega Course: Build 10 Real World Ap...   \n",
       "2  The Python Mega Course: Build 10 Real World Ap...   \n",
       "\n",
       "                   Timestamp  Rating Comment  \n",
       "1  2021-04-02 05:12:34+00:00     4.0     NaN  \n",
       "2  2021-04-02 05:11:03+00:00     4.0     NaN  "
      ]
     },
     "execution_count": 13,
     "metadata": {},
     "output_type": "execute_result"
    }
   ],
   "source": [
    "data.iloc[1:3]"
   ]
  },
  {
   "cell_type": "code",
   "execution_count": 14,
   "metadata": {},
   "outputs": [
    {
     "data": {
      "text/html": [
       "<div>\n",
       "<style scoped>\n",
       "    .dataframe tbody tr th:only-of-type {\n",
       "        vertical-align: middle;\n",
       "    }\n",
       "\n",
       "    .dataframe tbody tr th {\n",
       "        vertical-align: top;\n",
       "    }\n",
       "\n",
       "    .dataframe thead th {\n",
       "        text-align: right;\n",
       "    }\n",
       "</style>\n",
       "<table border=\"1\" class=\"dataframe\">\n",
       "  <thead>\n",
       "    <tr style=\"text-align: right;\">\n",
       "      <th></th>\n",
       "      <th>Rating</th>\n",
       "      <th>Course Name</th>\n",
       "    </tr>\n",
       "  </thead>\n",
       "  <tbody>\n",
       "    <tr>\n",
       "      <th>1</th>\n",
       "      <td>4.0</td>\n",
       "      <td>The Python Mega Course: Build 10 Real World Ap...</td>\n",
       "    </tr>\n",
       "    <tr>\n",
       "      <th>2</th>\n",
       "      <td>4.0</td>\n",
       "      <td>The Python Mega Course: Build 10 Real World Ap...</td>\n",
       "    </tr>\n",
       "  </tbody>\n",
       "</table>\n",
       "</div>"
      ],
      "text/plain": [
       "   Rating                                        Course Name\n",
       "1     4.0  The Python Mega Course: Build 10 Real World Ap...\n",
       "2     4.0  The Python Mega Course: Build 10 Real World Ap..."
      ]
     },
     "execution_count": 14,
     "metadata": {},
     "output_type": "execute_result"
    }
   ],
   "source": [
    "data[['Rating', 'Course Name']].iloc[1:3]"
   ]
  },
  {
   "cell_type": "code",
   "execution_count": 15,
   "metadata": {},
   "outputs": [
    {
     "data": {
      "text/plain": [
       "'2021-04-02 05:11:03+00:00'"
      ]
     },
     "execution_count": 15,
     "metadata": {},
     "output_type": "execute_result"
    }
   ],
   "source": [
    "data['Timestamp'].iloc[2]"
   ]
  },
  {
   "cell_type": "code",
   "execution_count": 16,
   "metadata": {},
   "outputs": [
    {
     "data": {
      "text/plain": [
       "'2021-04-02 05:11:03+00:00'"
      ]
     },
     "execution_count": 16,
     "metadata": {},
     "output_type": "execute_result"
    }
   ],
   "source": [
    "data.at[2,'Timestamp']"
   ]
  },
  {
   "cell_type": "code",
   "execution_count": 17,
   "metadata": {},
   "outputs": [
    {
     "data": {
      "text/html": [
       "<div>\n",
       "<style scoped>\n",
       "    .dataframe tbody tr th:only-of-type {\n",
       "        vertical-align: middle;\n",
       "    }\n",
       "\n",
       "    .dataframe tbody tr th {\n",
       "        vertical-align: top;\n",
       "    }\n",
       "\n",
       "    .dataframe thead th {\n",
       "        text-align: right;\n",
       "    }\n",
       "</style>\n",
       "<table border=\"1\" class=\"dataframe\">\n",
       "  <thead>\n",
       "    <tr style=\"text-align: right;\">\n",
       "      <th></th>\n",
       "      <th>Course Name</th>\n",
       "      <th>Timestamp</th>\n",
       "      <th>Rating</th>\n",
       "      <th>Comment</th>\n",
       "    </tr>\n",
       "  </thead>\n",
       "  <tbody>\n",
       "    <tr>\n",
       "      <th>3</th>\n",
       "      <td>The Python Mega Course: Build 10 Real World Ap...</td>\n",
       "      <td>2021-04-02 03:33:24+00:00</td>\n",
       "      <td>5.0</td>\n",
       "      <td>NaN</td>\n",
       "    </tr>\n",
       "    <tr>\n",
       "      <th>4</th>\n",
       "      <td>The Python Mega Course: Build 10 Real World Ap...</td>\n",
       "      <td>2021-04-02 03:31:49+00:00</td>\n",
       "      <td>4.5</td>\n",
       "      <td>NaN</td>\n",
       "    </tr>\n",
       "    <tr>\n",
       "      <th>5</th>\n",
       "      <td>The Python Mega Course: Build 10 Real World Ap...</td>\n",
       "      <td>2021-04-02 01:10:06+00:00</td>\n",
       "      <td>4.5</td>\n",
       "      <td>NaN</td>\n",
       "    </tr>\n",
       "    <tr>\n",
       "      <th>6</th>\n",
       "      <td>The Python Mega Course: Build 10 Real World Ap...</td>\n",
       "      <td>2021-04-02 00:44:54+00:00</td>\n",
       "      <td>4.5</td>\n",
       "      <td>NaN</td>\n",
       "    </tr>\n",
       "    <tr>\n",
       "      <th>7</th>\n",
       "      <td>The Python Mega Course: Build 10 Real World Ap...</td>\n",
       "      <td>2021-04-01 23:42:02+00:00</td>\n",
       "      <td>5.0</td>\n",
       "      <td>NaN</td>\n",
       "    </tr>\n",
       "    <tr>\n",
       "      <th>...</th>\n",
       "      <td>...</td>\n",
       "      <td>...</td>\n",
       "      <td>...</td>\n",
       "      <td>...</td>\n",
       "    </tr>\n",
       "    <tr>\n",
       "      <th>44994</th>\n",
       "      <td>The Python Mega Course: Build 10 Real World Ap...</td>\n",
       "      <td>2018-01-01 01:19:24+00:00</td>\n",
       "      <td>5.0</td>\n",
       "      <td>NaN</td>\n",
       "    </tr>\n",
       "    <tr>\n",
       "      <th>44996</th>\n",
       "      <td>The Python Mega Course: Build 10 Real World Ap...</td>\n",
       "      <td>2018-01-01 01:09:56+00:00</td>\n",
       "      <td>5.0</td>\n",
       "      <td>NaN</td>\n",
       "    </tr>\n",
       "    <tr>\n",
       "      <th>44997</th>\n",
       "      <td>The Python Mega Course: Build 10 Real World Ap...</td>\n",
       "      <td>2018-01-01 01:08:11+00:00</td>\n",
       "      <td>5.0</td>\n",
       "      <td>NaN</td>\n",
       "    </tr>\n",
       "    <tr>\n",
       "      <th>44998</th>\n",
       "      <td>Python for Beginners with Examples</td>\n",
       "      <td>2018-01-01 01:05:26+00:00</td>\n",
       "      <td>5.0</td>\n",
       "      <td>NaN</td>\n",
       "    </tr>\n",
       "    <tr>\n",
       "      <th>44999</th>\n",
       "      <td>The Python Mega Course: Build 10 Real World Ap...</td>\n",
       "      <td>2018-01-01 01:01:16+00:00</td>\n",
       "      <td>5.0</td>\n",
       "      <td>NaN</td>\n",
       "    </tr>\n",
       "  </tbody>\n",
       "</table>\n",
       "<p>29758 rows × 4 columns</p>\n",
       "</div>"
      ],
      "text/plain": [
       "                                             Course Name  \\\n",
       "3      The Python Mega Course: Build 10 Real World Ap...   \n",
       "4      The Python Mega Course: Build 10 Real World Ap...   \n",
       "5      The Python Mega Course: Build 10 Real World Ap...   \n",
       "6      The Python Mega Course: Build 10 Real World Ap...   \n",
       "7      The Python Mega Course: Build 10 Real World Ap...   \n",
       "...                                                  ...   \n",
       "44994  The Python Mega Course: Build 10 Real World Ap...   \n",
       "44996  The Python Mega Course: Build 10 Real World Ap...   \n",
       "44997  The Python Mega Course: Build 10 Real World Ap...   \n",
       "44998                 Python for Beginners with Examples   \n",
       "44999  The Python Mega Course: Build 10 Real World Ap...   \n",
       "\n",
       "                       Timestamp  Rating Comment  \n",
       "3      2021-04-02 03:33:24+00:00     5.0     NaN  \n",
       "4      2021-04-02 03:31:49+00:00     4.5     NaN  \n",
       "5      2021-04-02 01:10:06+00:00     4.5     NaN  \n",
       "6      2021-04-02 00:44:54+00:00     4.5     NaN  \n",
       "7      2021-04-01 23:42:02+00:00     5.0     NaN  \n",
       "...                          ...     ...     ...  \n",
       "44994  2018-01-01 01:19:24+00:00     5.0     NaN  \n",
       "44996  2018-01-01 01:09:56+00:00     5.0     NaN  \n",
       "44997  2018-01-01 01:08:11+00:00     5.0     NaN  \n",
       "44998  2018-01-01 01:05:26+00:00     5.0     NaN  \n",
       "44999  2018-01-01 01:01:16+00:00     5.0     NaN  \n",
       "\n",
       "[29758 rows x 4 columns]"
      ]
     },
     "execution_count": 17,
     "metadata": {},
     "output_type": "execute_result"
    }
   ],
   "source": [
    "data[data['Rating'] > 4]"
   ]
  },
  {
   "cell_type": "code",
   "execution_count": 18,
   "metadata": {},
   "outputs": [
    {
     "data": {
      "text/plain": [
       "Course Name    29758\n",
       "Timestamp      29758\n",
       "Rating         29758\n",
       "Comment         4927\n",
       "dtype: int64"
      ]
     },
     "execution_count": 18,
     "metadata": {},
     "output_type": "execute_result"
    }
   ],
   "source": [
    "data[data['Rating'] > 4].count()"
   ]
  },
  {
   "cell_type": "code",
   "execution_count": 20,
   "metadata": {},
   "outputs": [
    {
     "data": {
      "text/html": [
       "<div>\n",
       "<style scoped>\n",
       "    .dataframe tbody tr th:only-of-type {\n",
       "        vertical-align: middle;\n",
       "    }\n",
       "\n",
       "    .dataframe tbody tr th {\n",
       "        vertical-align: top;\n",
       "    }\n",
       "\n",
       "    .dataframe thead th {\n",
       "        text-align: right;\n",
       "    }\n",
       "</style>\n",
       "<table border=\"1\" class=\"dataframe\">\n",
       "  <thead>\n",
       "    <tr style=\"text-align: right;\">\n",
       "      <th></th>\n",
       "      <th>Course Name</th>\n",
       "      <th>Timestamp</th>\n",
       "      <th>Rating</th>\n",
       "      <th>Comment</th>\n",
       "    </tr>\n",
       "  </thead>\n",
       "  <tbody>\n",
       "    <tr>\n",
       "      <th>60</th>\n",
       "      <td>Python for Beginners with Examples</td>\n",
       "      <td>2021-03-31 07:21:59+00:00</td>\n",
       "      <td>5.0</td>\n",
       "      <td>really enjoying it so far</td>\n",
       "    </tr>\n",
       "    <tr>\n",
       "      <th>74</th>\n",
       "      <td>Python for Beginners with Examples</td>\n",
       "      <td>2021-03-30 16:18:04+00:00</td>\n",
       "      <td>5.0</td>\n",
       "      <td>NaN</td>\n",
       "    </tr>\n",
       "    <tr>\n",
       "      <th>88</th>\n",
       "      <td>Python for Beginners with Examples</td>\n",
       "      <td>2021-03-30 07:29:05+00:00</td>\n",
       "      <td>5.0</td>\n",
       "      <td>NaN</td>\n",
       "    </tr>\n",
       "    <tr>\n",
       "      <th>220</th>\n",
       "      <td>Python for Beginners with Examples</td>\n",
       "      <td>2021-03-25 13:18:57+00:00</td>\n",
       "      <td>5.0</td>\n",
       "      <td>Excellent course with demos and taking the qui...</td>\n",
       "    </tr>\n",
       "    <tr>\n",
       "      <th>243</th>\n",
       "      <td>Python for Beginners with Examples</td>\n",
       "      <td>2021-03-24 22:09:00+00:00</td>\n",
       "      <td>4.5</td>\n",
       "      <td>NaN</td>\n",
       "    </tr>\n",
       "    <tr>\n",
       "      <th>...</th>\n",
       "      <td>...</td>\n",
       "      <td>...</td>\n",
       "      <td>...</td>\n",
       "      <td>...</td>\n",
       "    </tr>\n",
       "    <tr>\n",
       "      <th>44974</th>\n",
       "      <td>Python for Beginners with Examples</td>\n",
       "      <td>2018-01-01 15:54:31+00:00</td>\n",
       "      <td>5.0</td>\n",
       "      <td>NaN</td>\n",
       "    </tr>\n",
       "    <tr>\n",
       "      <th>44978</th>\n",
       "      <td>Python for Beginners with Examples</td>\n",
       "      <td>2018-01-01 14:53:11+00:00</td>\n",
       "      <td>5.0</td>\n",
       "      <td>NaN</td>\n",
       "    </tr>\n",
       "    <tr>\n",
       "      <th>44985</th>\n",
       "      <td>Python for Beginners with Examples</td>\n",
       "      <td>2018-01-01 08:44:16+00:00</td>\n",
       "      <td>5.0</td>\n",
       "      <td>NaN</td>\n",
       "    </tr>\n",
       "    <tr>\n",
       "      <th>44986</th>\n",
       "      <td>Python for Beginners with Examples</td>\n",
       "      <td>2018-01-01 08:34:07+00:00</td>\n",
       "      <td>5.0</td>\n",
       "      <td>NaN</td>\n",
       "    </tr>\n",
       "    <tr>\n",
       "      <th>44998</th>\n",
       "      <td>Python for Beginners with Examples</td>\n",
       "      <td>2018-01-01 01:05:26+00:00</td>\n",
       "      <td>5.0</td>\n",
       "      <td>NaN</td>\n",
       "    </tr>\n",
       "  </tbody>\n",
       "</table>\n",
       "<p>2842 rows × 4 columns</p>\n",
       "</div>"
      ],
      "text/plain": [
       "                              Course Name                  Timestamp  Rating  \\\n",
       "60     Python for Beginners with Examples  2021-03-31 07:21:59+00:00     5.0   \n",
       "74     Python for Beginners with Examples  2021-03-30 16:18:04+00:00     5.0   \n",
       "88     Python for Beginners with Examples  2021-03-30 07:29:05+00:00     5.0   \n",
       "220    Python for Beginners with Examples  2021-03-25 13:18:57+00:00     5.0   \n",
       "243    Python for Beginners with Examples  2021-03-24 22:09:00+00:00     4.5   \n",
       "...                                   ...                        ...     ...   \n",
       "44974  Python for Beginners with Examples  2018-01-01 15:54:31+00:00     5.0   \n",
       "44978  Python for Beginners with Examples  2018-01-01 14:53:11+00:00     5.0   \n",
       "44985  Python for Beginners with Examples  2018-01-01 08:44:16+00:00     5.0   \n",
       "44986  Python for Beginners with Examples  2018-01-01 08:34:07+00:00     5.0   \n",
       "44998  Python for Beginners with Examples  2018-01-01 01:05:26+00:00     5.0   \n",
       "\n",
       "                                                 Comment  \n",
       "60                             really enjoying it so far  \n",
       "74                                                   NaN  \n",
       "88                                                   NaN  \n",
       "220    Excellent course with demos and taking the qui...  \n",
       "243                                                  NaN  \n",
       "...                                                  ...  \n",
       "44974                                                NaN  \n",
       "44978                                                NaN  \n",
       "44985                                                NaN  \n",
       "44986                                                NaN  \n",
       "44998                                                NaN  \n",
       "\n",
       "[2842 rows x 4 columns]"
      ]
     },
     "execution_count": 20,
     "metadata": {},
     "output_type": "execute_result"
    }
   ],
   "source": [
    "data[(data['Rating'] > 4) & (data['Course Name'] == 'Python for Beginners with Examples')]"
   ]
  },
  {
   "cell_type": "code",
   "execution_count": 29,
   "metadata": {},
   "outputs": [
    {
     "data": {
      "text/html": [
       "<div>\n",
       "<style scoped>\n",
       "    .dataframe tbody tr th:only-of-type {\n",
       "        vertical-align: middle;\n",
       "    }\n",
       "\n",
       "    .dataframe tbody tr th {\n",
       "        vertical-align: top;\n",
       "    }\n",
       "\n",
       "    .dataframe thead th {\n",
       "        text-align: right;\n",
       "    }\n",
       "</style>\n",
       "<table border=\"1\" class=\"dataframe\">\n",
       "  <thead>\n",
       "    <tr style=\"text-align: right;\">\n",
       "      <th></th>\n",
       "      <th>Course Name</th>\n",
       "      <th>Timestamp</th>\n",
       "      <th>Rating</th>\n",
       "      <th>Comment</th>\n",
       "    </tr>\n",
       "  </thead>\n",
       "  <tbody>\n",
       "    <tr>\n",
       "      <th>3065</th>\n",
       "      <td>Interactive Data Visualization with Python and...</td>\n",
       "      <td>2020-12-30 23:28:34+00:00</td>\n",
       "      <td>3.0</td>\n",
       "      <td>NaN</td>\n",
       "    </tr>\n",
       "    <tr>\n",
       "      <th>3066</th>\n",
       "      <td>The Python Mega Course: Build 10 Real World Ap...</td>\n",
       "      <td>2020-12-30 22:59:02+00:00</td>\n",
       "      <td>4.0</td>\n",
       "      <td>NaN</td>\n",
       "    </tr>\n",
       "    <tr>\n",
       "      <th>3067</th>\n",
       "      <td>The Python Mega Course: Build 10 Real World Ap...</td>\n",
       "      <td>2020-12-30 22:40:10+00:00</td>\n",
       "      <td>4.5</td>\n",
       "      <td>NaN</td>\n",
       "    </tr>\n",
       "    <tr>\n",
       "      <th>3068</th>\n",
       "      <td>The Python Mega Course: Build 10 Real World Ap...</td>\n",
       "      <td>2020-12-30 21:56:41+00:00</td>\n",
       "      <td>4.5</td>\n",
       "      <td>NaN</td>\n",
       "    </tr>\n",
       "    <tr>\n",
       "      <th>3069</th>\n",
       "      <td>The Python Mega Course: Build 10 Real World Ap...</td>\n",
       "      <td>2020-12-30 21:14:34+00:00</td>\n",
       "      <td>4.5</td>\n",
       "      <td>NaN</td>\n",
       "    </tr>\n",
       "    <tr>\n",
       "      <th>...</th>\n",
       "      <td>...</td>\n",
       "      <td>...</td>\n",
       "      <td>...</td>\n",
       "      <td>...</td>\n",
       "    </tr>\n",
       "    <tr>\n",
       "      <th>9729</th>\n",
       "      <td>The Python Mega Course: Build 10 Real World Ap...</td>\n",
       "      <td>2020-07-01 03:09:44+00:00</td>\n",
       "      <td>3.5</td>\n",
       "      <td>NaN</td>\n",
       "    </tr>\n",
       "    <tr>\n",
       "      <th>9730</th>\n",
       "      <td>The Python Mega Course: Build 10 Real World Ap...</td>\n",
       "      <td>2020-07-01 03:09:12+00:00</td>\n",
       "      <td>5.0</td>\n",
       "      <td>NaN</td>\n",
       "    </tr>\n",
       "    <tr>\n",
       "      <th>9731</th>\n",
       "      <td>The Python Mega Course: Build 10 Real World Ap...</td>\n",
       "      <td>2020-07-01 02:40:58+00:00</td>\n",
       "      <td>4.0</td>\n",
       "      <td>NaN</td>\n",
       "    </tr>\n",
       "    <tr>\n",
       "      <th>9732</th>\n",
       "      <td>The Python Mega Course: Build 10 Real World Ap...</td>\n",
       "      <td>2020-07-01 02:04:02+00:00</td>\n",
       "      <td>5.0</td>\n",
       "      <td>nice</td>\n",
       "    </tr>\n",
       "    <tr>\n",
       "      <th>9733</th>\n",
       "      <td>The Python Mega Course: Build 10 Real World Ap...</td>\n",
       "      <td>2020-07-01 00:01:34+00:00</td>\n",
       "      <td>2.0</td>\n",
       "      <td>Hard to follow if u have no experience program...</td>\n",
       "    </tr>\n",
       "  </tbody>\n",
       "</table>\n",
       "<p>6669 rows × 4 columns</p>\n",
       "</div>"
      ],
      "text/plain": [
       "                                            Course Name  \\\n",
       "3065  Interactive Data Visualization with Python and...   \n",
       "3066  The Python Mega Course: Build 10 Real World Ap...   \n",
       "3067  The Python Mega Course: Build 10 Real World Ap...   \n",
       "3068  The Python Mega Course: Build 10 Real World Ap...   \n",
       "3069  The Python Mega Course: Build 10 Real World Ap...   \n",
       "...                                                 ...   \n",
       "9729  The Python Mega Course: Build 10 Real World Ap...   \n",
       "9730  The Python Mega Course: Build 10 Real World Ap...   \n",
       "9731  The Python Mega Course: Build 10 Real World Ap...   \n",
       "9732  The Python Mega Course: Build 10 Real World Ap...   \n",
       "9733  The Python Mega Course: Build 10 Real World Ap...   \n",
       "\n",
       "                     Timestamp  Rating  \\\n",
       "3065 2020-12-30 23:28:34+00:00     3.0   \n",
       "3066 2020-12-30 22:59:02+00:00     4.0   \n",
       "3067 2020-12-30 22:40:10+00:00     4.5   \n",
       "3068 2020-12-30 21:56:41+00:00     4.5   \n",
       "3069 2020-12-30 21:14:34+00:00     4.5   \n",
       "...                        ...     ...   \n",
       "9729 2020-07-01 03:09:44+00:00     3.5   \n",
       "9730 2020-07-01 03:09:12+00:00     5.0   \n",
       "9731 2020-07-01 02:40:58+00:00     4.0   \n",
       "9732 2020-07-01 02:04:02+00:00     5.0   \n",
       "9733 2020-07-01 00:01:34+00:00     2.0   \n",
       "\n",
       "                                                Comment  \n",
       "3065                                                NaN  \n",
       "3066                                                NaN  \n",
       "3067                                                NaN  \n",
       "3068                                                NaN  \n",
       "3069                                                NaN  \n",
       "...                                                 ...  \n",
       "9729                                                NaN  \n",
       "9730                                                NaN  \n",
       "9731                                                NaN  \n",
       "9732                                               nice  \n",
       "9733  Hard to follow if u have no experience program...  \n",
       "\n",
       "[6669 rows x 4 columns]"
      ]
     },
     "execution_count": 29,
     "metadata": {},
     "output_type": "execute_result"
    }
   ],
   "source": [
    "data[(data['Timestamp'] >= datetime(2020, 7, 1, tzinfo=utc)) & (data['Timestamp'] <= datetime(2020, 12, 31, tzinfo=utc))]"
   ]
  },
  {
   "cell_type": "code",
   "execution_count": 26,
   "metadata": {},
   "outputs": [
    {
     "data": {
      "text/plain": [
       "0       2021-04-02 06:25:52+00:00\n",
       "1       2021-04-02 05:12:34+00:00\n",
       "2       2021-04-02 05:11:03+00:00\n",
       "3       2021-04-02 03:33:24+00:00\n",
       "4       2021-04-02 03:31:49+00:00\n",
       "                   ...           \n",
       "44995   2018-01-01 01:11:26+00:00\n",
       "44996   2018-01-01 01:09:56+00:00\n",
       "44997   2018-01-01 01:08:11+00:00\n",
       "44998   2018-01-01 01:05:26+00:00\n",
       "44999   2018-01-01 01:01:16+00:00\n",
       "Name: Timestamp, Length: 45000, dtype: datetime64[ns, UTC]"
      ]
     },
     "execution_count": 26,
     "metadata": {},
     "output_type": "execute_result"
    }
   ],
   "source": [
    "data['Timestamp']"
   ]
  },
  {
   "cell_type": "code",
   "execution_count": 30,
   "metadata": {},
   "outputs": [
    {
     "data": {
      "text/plain": [
       "4.442155555555556"
      ]
     },
     "execution_count": 30,
     "metadata": {},
     "output_type": "execute_result"
    }
   ],
   "source": [
    "data['Rating'].mean()"
   ]
  },
  {
   "cell_type": "code",
   "execution_count": 31,
   "metadata": {},
   "outputs": [
    {
     "data": {
      "text/plain": [
       "Rating    4.300975\n",
       "dtype: float64"
      ]
     },
     "execution_count": 31,
     "metadata": {},
     "output_type": "execute_result"
    }
   ],
   "source": [
    "data[data['Course Name'] == 'Python for Beginners with Examples'].mean()"
   ]
  },
  {
   "cell_type": "code",
   "execution_count": 34,
   "metadata": {},
   "outputs": [
    {
     "data": {
      "text/plain": [
       "4.300974901472723"
      ]
     },
     "execution_count": 34,
     "metadata": {},
     "output_type": "execute_result"
    }
   ],
   "source": [
    "data[data['Course Name'] == 'Python for Beginners with Examples']['Rating'].mean()"
   ]
  },
  {
   "cell_type": "code",
   "execution_count": 35,
   "metadata": {},
   "outputs": [
    {
     "data": {
      "text/plain": [
       "4.499250262408157"
      ]
     },
     "execution_count": 35,
     "metadata": {},
     "output_type": "execute_result"
    }
   ],
   "source": [
    "data[(data['Timestamp'] >= datetime(2020, 7, 1, tzinfo=utc)) & (data['Timestamp'] <= datetime(2020, 12, 31, tzinfo=utc))]['Rating'].mean()"
   ]
  },
  {
   "cell_type": "code",
   "execution_count": 36,
   "metadata": {},
   "outputs": [
    {
     "data": {
      "text/plain": [
       "4.354066985645933"
      ]
     },
     "execution_count": 36,
     "metadata": {},
     "output_type": "execute_result"
    }
   ],
   "source": [
    "data[(data['Timestamp'] >= datetime(2020, 7, 1, tzinfo=utc)) & (data['Timestamp'] <= datetime(2020, 12, 31, tzinfo=utc)) & (data['Course Name'] == 'Python for Beginners with Examples')]['Rating'].mean()"
   ]
  },
  {
   "cell_type": "code",
   "execution_count": 37,
   "metadata": {},
   "outputs": [
    {
     "data": {
      "text/html": [
       "<div>\n",
       "<style scoped>\n",
       "    .dataframe tbody tr th:only-of-type {\n",
       "        vertical-align: middle;\n",
       "    }\n",
       "\n",
       "    .dataframe tbody tr th {\n",
       "        vertical-align: top;\n",
       "    }\n",
       "\n",
       "    .dataframe thead th {\n",
       "        text-align: right;\n",
       "    }\n",
       "</style>\n",
       "<table border=\"1\" class=\"dataframe\">\n",
       "  <thead>\n",
       "    <tr style=\"text-align: right;\">\n",
       "      <th></th>\n",
       "      <th>Course Name</th>\n",
       "      <th>Timestamp</th>\n",
       "      <th>Rating</th>\n",
       "      <th>Comment</th>\n",
       "    </tr>\n",
       "  </thead>\n",
       "  <tbody>\n",
       "    <tr>\n",
       "      <th>11</th>\n",
       "      <td>The Python Mega Course: Build 10 Real World Ap...</td>\n",
       "      <td>2021-04-01 15:25:18+00:00</td>\n",
       "      <td>5.0</td>\n",
       "      <td>No</td>\n",
       "    </tr>\n",
       "    <tr>\n",
       "      <th>19</th>\n",
       "      <td>100 Python Exercises I: Evaluate and Improve Y...</td>\n",
       "      <td>2021-04-01 08:47:42+00:00</td>\n",
       "      <td>4.5</td>\n",
       "      <td>Excellent set of practical problems.  Thank you!</td>\n",
       "    </tr>\n",
       "    <tr>\n",
       "      <th>22</th>\n",
       "      <td>The Python Mega Course: Build 10 Real World Ap...</td>\n",
       "      <td>2021-04-01 05:47:51+00:00</td>\n",
       "      <td>5.0</td>\n",
       "      <td>Great course.</td>\n",
       "    </tr>\n",
       "    <tr>\n",
       "      <th>57</th>\n",
       "      <td>The Python Mega Course: Build 10 Real World Ap...</td>\n",
       "      <td>2021-03-31 08:41:48+00:00</td>\n",
       "      <td>2.0</td>\n",
       "      <td>Coding is awful confusing. Loads of weird stuf...</td>\n",
       "    </tr>\n",
       "    <tr>\n",
       "      <th>60</th>\n",
       "      <td>Python for Beginners with Examples</td>\n",
       "      <td>2021-03-31 07:21:59+00:00</td>\n",
       "      <td>5.0</td>\n",
       "      <td>really enjoying it so far</td>\n",
       "    </tr>\n",
       "    <tr>\n",
       "      <th>...</th>\n",
       "      <td>...</td>\n",
       "      <td>...</td>\n",
       "      <td>...</td>\n",
       "      <td>...</td>\n",
       "    </tr>\n",
       "    <tr>\n",
       "      <th>44957</th>\n",
       "      <td>The Python Mega Course: Build 10 Real World Ap...</td>\n",
       "      <td>2018-01-01 21:35:13+00:00</td>\n",
       "      <td>5.0</td>\n",
       "      <td>i like how thorough it is</td>\n",
       "    </tr>\n",
       "    <tr>\n",
       "      <th>44959</th>\n",
       "      <td>The Python Mega Course: Build 10 Real World Ap...</td>\n",
       "      <td>2018-01-01 20:54:55+00:00</td>\n",
       "      <td>4.0</td>\n",
       "      <td>detailed lectures. Easy explanations. useful e...</td>\n",
       "    </tr>\n",
       "    <tr>\n",
       "      <th>44964</th>\n",
       "      <td>The Python Mega Course: Build 10 Real World Ap...</td>\n",
       "      <td>2018-01-01 18:57:38+00:00</td>\n",
       "      <td>4.0</td>\n",
       "      <td>Good clear explanations for beginners.</td>\n",
       "    </tr>\n",
       "    <tr>\n",
       "      <th>44965</th>\n",
       "      <td>The Python Mega Course: Build 10 Real World Ap...</td>\n",
       "      <td>2018-01-01 18:56:54+00:00</td>\n",
       "      <td>4.0</td>\n",
       "      <td>Presenter is very clear</td>\n",
       "    </tr>\n",
       "    <tr>\n",
       "      <th>44980</th>\n",
       "      <td>The Python Mega Course: Build 10 Real World Ap...</td>\n",
       "      <td>2018-01-01 13:55:39+00:00</td>\n",
       "      <td>5.0</td>\n",
       "      <td>Very good instructor, lots of examples</td>\n",
       "    </tr>\n",
       "  </tbody>\n",
       "</table>\n",
       "<p>6799 rows × 4 columns</p>\n",
       "</div>"
      ],
      "text/plain": [
       "                                             Course Name  \\\n",
       "11     The Python Mega Course: Build 10 Real World Ap...   \n",
       "19     100 Python Exercises I: Evaluate and Improve Y...   \n",
       "22     The Python Mega Course: Build 10 Real World Ap...   \n",
       "57     The Python Mega Course: Build 10 Real World Ap...   \n",
       "60                    Python for Beginners with Examples   \n",
       "...                                                  ...   \n",
       "44957  The Python Mega Course: Build 10 Real World Ap...   \n",
       "44959  The Python Mega Course: Build 10 Real World Ap...   \n",
       "44964  The Python Mega Course: Build 10 Real World Ap...   \n",
       "44965  The Python Mega Course: Build 10 Real World Ap...   \n",
       "44980  The Python Mega Course: Build 10 Real World Ap...   \n",
       "\n",
       "                      Timestamp  Rating  \\\n",
       "11    2021-04-01 15:25:18+00:00     5.0   \n",
       "19    2021-04-01 08:47:42+00:00     4.5   \n",
       "22    2021-04-01 05:47:51+00:00     5.0   \n",
       "57    2021-03-31 08:41:48+00:00     2.0   \n",
       "60    2021-03-31 07:21:59+00:00     5.0   \n",
       "...                         ...     ...   \n",
       "44957 2018-01-01 21:35:13+00:00     5.0   \n",
       "44959 2018-01-01 20:54:55+00:00     4.0   \n",
       "44964 2018-01-01 18:57:38+00:00     4.0   \n",
       "44965 2018-01-01 18:56:54+00:00     4.0   \n",
       "44980 2018-01-01 13:55:39+00:00     5.0   \n",
       "\n",
       "                                                 Comment  \n",
       "11                                                    No  \n",
       "19      Excellent set of practical problems.  Thank you!  \n",
       "22                                         Great course.  \n",
       "57     Coding is awful confusing. Loads of weird stuf...  \n",
       "60                             really enjoying it so far  \n",
       "...                                                  ...  \n",
       "44957                          i like how thorough it is  \n",
       "44959  detailed lectures. Easy explanations. useful e...  \n",
       "44964             Good clear explanations for beginners.  \n",
       "44965                            Presenter is very clear  \n",
       "44980             Very good instructor, lots of examples  \n",
       "\n",
       "[6799 rows x 4 columns]"
      ]
     },
     "execution_count": 37,
     "metadata": {},
     "output_type": "execute_result"
    }
   ],
   "source": [
    "data[data['Comment'].notnull()]"
   ]
  },
  {
   "cell_type": "code",
   "execution_count": 38,
   "metadata": {},
   "outputs": [
    {
     "data": {
      "text/html": [
       "<div>\n",
       "<style scoped>\n",
       "    .dataframe tbody tr th:only-of-type {\n",
       "        vertical-align: middle;\n",
       "    }\n",
       "\n",
       "    .dataframe tbody tr th {\n",
       "        vertical-align: top;\n",
       "    }\n",
       "\n",
       "    .dataframe thead th {\n",
       "        text-align: right;\n",
       "    }\n",
       "</style>\n",
       "<table border=\"1\" class=\"dataframe\">\n",
       "  <thead>\n",
       "    <tr style=\"text-align: right;\">\n",
       "      <th></th>\n",
       "      <th>Course Name</th>\n",
       "      <th>Timestamp</th>\n",
       "      <th>Rating</th>\n",
       "      <th>Comment</th>\n",
       "    </tr>\n",
       "  </thead>\n",
       "  <tbody>\n",
       "    <tr>\n",
       "      <th>0</th>\n",
       "      <td>The Python Mega Course: Build 10 Real World Ap...</td>\n",
       "      <td>2021-04-02 06:25:52+00:00</td>\n",
       "      <td>4.0</td>\n",
       "      <td>NaN</td>\n",
       "    </tr>\n",
       "    <tr>\n",
       "      <th>1</th>\n",
       "      <td>The Python Mega Course: Build 10 Real World Ap...</td>\n",
       "      <td>2021-04-02 05:12:34+00:00</td>\n",
       "      <td>4.0</td>\n",
       "      <td>NaN</td>\n",
       "    </tr>\n",
       "    <tr>\n",
       "      <th>2</th>\n",
       "      <td>The Python Mega Course: Build 10 Real World Ap...</td>\n",
       "      <td>2021-04-02 05:11:03+00:00</td>\n",
       "      <td>4.0</td>\n",
       "      <td>NaN</td>\n",
       "    </tr>\n",
       "    <tr>\n",
       "      <th>3</th>\n",
       "      <td>The Python Mega Course: Build 10 Real World Ap...</td>\n",
       "      <td>2021-04-02 03:33:24+00:00</td>\n",
       "      <td>5.0</td>\n",
       "      <td>NaN</td>\n",
       "    </tr>\n",
       "    <tr>\n",
       "      <th>4</th>\n",
       "      <td>The Python Mega Course: Build 10 Real World Ap...</td>\n",
       "      <td>2021-04-02 03:31:49+00:00</td>\n",
       "      <td>4.5</td>\n",
       "      <td>NaN</td>\n",
       "    </tr>\n",
       "    <tr>\n",
       "      <th>...</th>\n",
       "      <td>...</td>\n",
       "      <td>...</td>\n",
       "      <td>...</td>\n",
       "      <td>...</td>\n",
       "    </tr>\n",
       "    <tr>\n",
       "      <th>44995</th>\n",
       "      <td>Python for Beginners with Examples</td>\n",
       "      <td>2018-01-01 01:11:26+00:00</td>\n",
       "      <td>4.0</td>\n",
       "      <td>NaN</td>\n",
       "    </tr>\n",
       "    <tr>\n",
       "      <th>44996</th>\n",
       "      <td>The Python Mega Course: Build 10 Real World Ap...</td>\n",
       "      <td>2018-01-01 01:09:56+00:00</td>\n",
       "      <td>5.0</td>\n",
       "      <td>NaN</td>\n",
       "    </tr>\n",
       "    <tr>\n",
       "      <th>44997</th>\n",
       "      <td>The Python Mega Course: Build 10 Real World Ap...</td>\n",
       "      <td>2018-01-01 01:08:11+00:00</td>\n",
       "      <td>5.0</td>\n",
       "      <td>NaN</td>\n",
       "    </tr>\n",
       "    <tr>\n",
       "      <th>44998</th>\n",
       "      <td>Python for Beginners with Examples</td>\n",
       "      <td>2018-01-01 01:05:26+00:00</td>\n",
       "      <td>5.0</td>\n",
       "      <td>NaN</td>\n",
       "    </tr>\n",
       "    <tr>\n",
       "      <th>44999</th>\n",
       "      <td>The Python Mega Course: Build 10 Real World Ap...</td>\n",
       "      <td>2018-01-01 01:01:16+00:00</td>\n",
       "      <td>5.0</td>\n",
       "      <td>NaN</td>\n",
       "    </tr>\n",
       "  </tbody>\n",
       "</table>\n",
       "<p>38201 rows × 4 columns</p>\n",
       "</div>"
      ],
      "text/plain": [
       "                                             Course Name  \\\n",
       "0      The Python Mega Course: Build 10 Real World Ap...   \n",
       "1      The Python Mega Course: Build 10 Real World Ap...   \n",
       "2      The Python Mega Course: Build 10 Real World Ap...   \n",
       "3      The Python Mega Course: Build 10 Real World Ap...   \n",
       "4      The Python Mega Course: Build 10 Real World Ap...   \n",
       "...                                                  ...   \n",
       "44995                 Python for Beginners with Examples   \n",
       "44996  The Python Mega Course: Build 10 Real World Ap...   \n",
       "44997  The Python Mega Course: Build 10 Real World Ap...   \n",
       "44998                 Python for Beginners with Examples   \n",
       "44999  The Python Mega Course: Build 10 Real World Ap...   \n",
       "\n",
       "                      Timestamp  Rating Comment  \n",
       "0     2021-04-02 06:25:52+00:00     4.0     NaN  \n",
       "1     2021-04-02 05:12:34+00:00     4.0     NaN  \n",
       "2     2021-04-02 05:11:03+00:00     4.0     NaN  \n",
       "3     2021-04-02 03:33:24+00:00     5.0     NaN  \n",
       "4     2021-04-02 03:31:49+00:00     4.5     NaN  \n",
       "...                         ...     ...     ...  \n",
       "44995 2018-01-01 01:11:26+00:00     4.0     NaN  \n",
       "44996 2018-01-01 01:09:56+00:00     5.0     NaN  \n",
       "44997 2018-01-01 01:08:11+00:00     5.0     NaN  \n",
       "44998 2018-01-01 01:05:26+00:00     5.0     NaN  \n",
       "44999 2018-01-01 01:01:16+00:00     5.0     NaN  \n",
       "\n",
       "[38201 rows x 4 columns]"
      ]
     },
     "execution_count": 38,
     "metadata": {},
     "output_type": "execute_result"
    }
   ],
   "source": [
    "data[data['Comment'].isnull()]"
   ]
  },
  {
   "cell_type": "code",
   "execution_count": 41,
   "metadata": {},
   "outputs": [
    {
     "data": {
      "text/plain": [
       "4.433679746603492"
      ]
     },
     "execution_count": 41,
     "metadata": {},
     "output_type": "execute_result"
    }
   ],
   "source": [
    "data[data['Comment'].isnull()]['Rating'].mean()"
   ]
  },
  {
   "cell_type": "code",
   "execution_count": 42,
   "metadata": {},
   "outputs": [
    {
     "data": {
      "text/plain": [
       "38201"
      ]
     },
     "execution_count": 42,
     "metadata": {},
     "output_type": "execute_result"
    }
   ],
   "source": [
    "data[data['Comment'].isnull()]['Rating'].count()"
   ]
  },
  {
   "cell_type": "code",
   "execution_count": 43,
   "metadata": {},
   "outputs": [
    {
     "data": {
      "text/html": [
       "<div>\n",
       "<style scoped>\n",
       "    .dataframe tbody tr th:only-of-type {\n",
       "        vertical-align: middle;\n",
       "    }\n",
       "\n",
       "    .dataframe tbody tr th {\n",
       "        vertical-align: top;\n",
       "    }\n",
       "\n",
       "    .dataframe thead th {\n",
       "        text-align: right;\n",
       "    }\n",
       "</style>\n",
       "<table border=\"1\" class=\"dataframe\">\n",
       "  <thead>\n",
       "    <tr style=\"text-align: right;\">\n",
       "      <th></th>\n",
       "      <th>Course Name</th>\n",
       "      <th>Timestamp</th>\n",
       "      <th>Rating</th>\n",
       "      <th>Comment</th>\n",
       "    </tr>\n",
       "  </thead>\n",
       "  <tbody>\n",
       "    <tr>\n",
       "      <th>2099</th>\n",
       "      <td>The Complete Python Course: Build 10 Professio...</td>\n",
       "      <td>2021-01-24 19:02:55+00:00</td>\n",
       "      <td>4.5</td>\n",
       "      <td>The course is great but because of the instruc...</td>\n",
       "    </tr>\n",
       "    <tr>\n",
       "      <th>3025</th>\n",
       "      <td>The Python Mega Course: Build 10 Real World Ap...</td>\n",
       "      <td>2021-01-01 14:46:21+00:00</td>\n",
       "      <td>2.5</td>\n",
       "      <td>Sometimes it is difficult to understand the in...</td>\n",
       "    </tr>\n",
       "    <tr>\n",
       "      <th>3477</th>\n",
       "      <td>The Python Mega Course: Build 10 Real World Ap...</td>\n",
       "      <td>2020-12-18 06:00:42+00:00</td>\n",
       "      <td>4.5</td>\n",
       "      <td>A little trouble at first with the accent, but...</td>\n",
       "    </tr>\n",
       "    <tr>\n",
       "      <th>3754</th>\n",
       "      <td>The Python Mega Course: Build 10 Real World Ap...</td>\n",
       "      <td>2020-12-08 13:42:00+00:00</td>\n",
       "      <td>5.0</td>\n",
       "      <td>I was looking for some time for the good Pytho...</td>\n",
       "    </tr>\n",
       "    <tr>\n",
       "      <th>4690</th>\n",
       "      <td>Learn GIS in One Hour</td>\n",
       "      <td>2020-11-11 17:23:12+00:00</td>\n",
       "      <td>5.0</td>\n",
       "      <td>I am having trouble seeing the video and he is...</td>\n",
       "    </tr>\n",
       "    <tr>\n",
       "      <th>...</th>\n",
       "      <td>...</td>\n",
       "      <td>...</td>\n",
       "      <td>...</td>\n",
       "      <td>...</td>\n",
       "    </tr>\n",
       "    <tr>\n",
       "      <th>43785</th>\n",
       "      <td>Python for Beginners with Examples</td>\n",
       "      <td>2018-01-26 09:19:40+00:00</td>\n",
       "      <td>4.0</td>\n",
       "      <td>Please find the English review below!\\n\\nDiese...</td>\n",
       "    </tr>\n",
       "    <tr>\n",
       "      <th>44040</th>\n",
       "      <td>The Python Mega Course: Build 10 Real World Ap...</td>\n",
       "      <td>2018-01-20 01:06:54+00:00</td>\n",
       "      <td>5.0</td>\n",
       "      <td>HIGHLY RECOMMEND THIS COURSE! BUT PLEASE READ ...</td>\n",
       "    </tr>\n",
       "    <tr>\n",
       "      <th>44471</th>\n",
       "      <td>Learn GIS in One Hour</td>\n",
       "      <td>2018-01-11 11:11:12+00:00</td>\n",
       "      <td>4.5</td>\n",
       "      <td>This is a really nice course for beginners who...</td>\n",
       "    </tr>\n",
       "    <tr>\n",
       "      <th>44483</th>\n",
       "      <td>The Python Mega Course: Build 10 Real World Ap...</td>\n",
       "      <td>2018-01-11 05:06:48+00:00</td>\n",
       "      <td>3.0</td>\n",
       "      <td>Speakers accent was a bit difficult for me to ...</td>\n",
       "    </tr>\n",
       "    <tr>\n",
       "      <th>44617</th>\n",
       "      <td>The Python Mega Course: Build 10 Real World Ap...</td>\n",
       "      <td>2018-01-08 18:39:34+00:00</td>\n",
       "      <td>5.0</td>\n",
       "      <td>First course that actually covers everything y...</td>\n",
       "    </tr>\n",
       "  </tbody>\n",
       "</table>\n",
       "<p>77 rows × 4 columns</p>\n",
       "</div>"
      ],
      "text/plain": [
       "                                             Course Name  \\\n",
       "2099   The Complete Python Course: Build 10 Professio...   \n",
       "3025   The Python Mega Course: Build 10 Real World Ap...   \n",
       "3477   The Python Mega Course: Build 10 Real World Ap...   \n",
       "3754   The Python Mega Course: Build 10 Real World Ap...   \n",
       "4690                               Learn GIS in One Hour   \n",
       "...                                                  ...   \n",
       "43785                 Python for Beginners with Examples   \n",
       "44040  The Python Mega Course: Build 10 Real World Ap...   \n",
       "44471                              Learn GIS in One Hour   \n",
       "44483  The Python Mega Course: Build 10 Real World Ap...   \n",
       "44617  The Python Mega Course: Build 10 Real World Ap...   \n",
       "\n",
       "                      Timestamp  Rating  \\\n",
       "2099  2021-01-24 19:02:55+00:00     4.5   \n",
       "3025  2021-01-01 14:46:21+00:00     2.5   \n",
       "3477  2020-12-18 06:00:42+00:00     4.5   \n",
       "3754  2020-12-08 13:42:00+00:00     5.0   \n",
       "4690  2020-11-11 17:23:12+00:00     5.0   \n",
       "...                         ...     ...   \n",
       "43785 2018-01-26 09:19:40+00:00     4.0   \n",
       "44040 2018-01-20 01:06:54+00:00     5.0   \n",
       "44471 2018-01-11 11:11:12+00:00     4.5   \n",
       "44483 2018-01-11 05:06:48+00:00     3.0   \n",
       "44617 2018-01-08 18:39:34+00:00     5.0   \n",
       "\n",
       "                                                 Comment  \n",
       "2099   The course is great but because of the instruc...  \n",
       "3025   Sometimes it is difficult to understand the in...  \n",
       "3477   A little trouble at first with the accent, but...  \n",
       "3754   I was looking for some time for the good Pytho...  \n",
       "4690   I am having trouble seeing the video and he is...  \n",
       "...                                                  ...  \n",
       "43785  Please find the English review below!\\n\\nDiese...  \n",
       "44040  HIGHLY RECOMMEND THIS COURSE! BUT PLEASE READ ...  \n",
       "44471  This is a really nice course for beginners who...  \n",
       "44483  Speakers accent was a bit difficult for me to ...  \n",
       "44617  First course that actually covers everything y...  \n",
       "\n",
       "[77 rows x 4 columns]"
      ]
     },
     "execution_count": 43,
     "metadata": {},
     "output_type": "execute_result"
    }
   ],
   "source": [
    "data[data['Comment'].str.contains('accent', na=False)]"
   ]
  },
  {
   "cell_type": "code",
   "execution_count": 44,
   "metadata": {},
   "outputs": [
    {
     "data": {
      "text/plain": [
       "77"
      ]
     },
     "execution_count": 44,
     "metadata": {},
     "output_type": "execute_result"
    }
   ],
   "source": [
    "data[data['Comment'].str.contains('accent', na=False)]['Rating'].count()"
   ]
  },
  {
   "cell_type": "code",
   "execution_count": 45,
   "metadata": {},
   "outputs": [
    {
     "data": {
      "text/plain": [
       "3.8636363636363638"
      ]
     },
     "execution_count": 45,
     "metadata": {},
     "output_type": "execute_result"
    }
   ],
   "source": [
    "data[data['Comment'].str.contains('accent', na=False)]['Rating'].mean()"
   ]
  },
  {
   "cell_type": "code",
   "execution_count": 10,
   "metadata": {},
   "outputs": [
    {
     "data": {
      "text/html": [
       "<div>\n",
       "<style scoped>\n",
       "    .dataframe tbody tr th:only-of-type {\n",
       "        vertical-align: middle;\n",
       "    }\n",
       "\n",
       "    .dataframe tbody tr th {\n",
       "        vertical-align: top;\n",
       "    }\n",
       "\n",
       "    .dataframe thead th {\n",
       "        text-align: right;\n",
       "    }\n",
       "</style>\n",
       "<table border=\"1\" class=\"dataframe\">\n",
       "  <thead>\n",
       "    <tr style=\"text-align: right;\">\n",
       "      <th></th>\n",
       "      <th>Rating</th>\n",
       "    </tr>\n",
       "    <tr>\n",
       "      <th>Course Name</th>\n",
       "      <th></th>\n",
       "    </tr>\n",
       "  </thead>\n",
       "  <tbody>\n",
       "    <tr>\n",
       "      <th>100 Python Exercises I: Evaluate and Improve Your Skills</th>\n",
       "      <td>4.323603</td>\n",
       "    </tr>\n",
       "    <tr>\n",
       "      <th>100 Python Exercises II: Evaluate and Improve Your Skills</th>\n",
       "      <td>4.519643</td>\n",
       "    </tr>\n",
       "    <tr>\n",
       "      <th>Data Processing with Python</th>\n",
       "      <td>4.237327</td>\n",
       "    </tr>\n",
       "    <tr>\n",
       "      <th>Interactive Data Visualization with Python and Bokeh</th>\n",
       "      <td>4.275098</td>\n",
       "    </tr>\n",
       "    <tr>\n",
       "      <th>Learn GIS in One Hour</th>\n",
       "      <td>4.071142</td>\n",
       "    </tr>\n",
       "    <tr>\n",
       "      <th>Python for Beginners with Examples</th>\n",
       "      <td>4.300975</td>\n",
       "    </tr>\n",
       "    <tr>\n",
       "      <th>The Complete Python Course: Build 10 Professional OOP Apps</th>\n",
       "      <td>4.623404</td>\n",
       "    </tr>\n",
       "    <tr>\n",
       "      <th>The Python Mega Course: Build 10 Real World Applications</th>\n",
       "      <td>4.477270</td>\n",
       "    </tr>\n",
       "  </tbody>\n",
       "</table>\n",
       "</div>"
      ],
      "text/plain": [
       "                                                      Rating\n",
       "Course Name                                                 \n",
       "100 Python Exercises I: Evaluate and Improve Yo...  4.323603\n",
       "100 Python Exercises II: Evaluate and Improve Y...  4.519643\n",
       "Data Processing with Python                         4.237327\n",
       "Interactive Data Visualization with Python and ...  4.275098\n",
       "Learn GIS in One Hour                               4.071142\n",
       "Python for Beginners with Examples                  4.300975\n",
       "The Complete Python Course: Build 10 Profession...  4.623404\n",
       "The Python Mega Course: Build 10 Real World App...  4.477270"
      ]
     },
     "execution_count": 10,
     "metadata": {},
     "output_type": "execute_result"
    }
   ],
   "source": [
    "day_average = data.groupby(['Course Name'])\n",
    "day_average.mean()"
   ]
  },
  {
   "cell_type": "code",
   "execution_count": 12,
   "metadata": {},
   "outputs": [
    {
     "data": {
      "text/html": [
       "<div>\n",
       "<style scoped>\n",
       "    .dataframe tbody tr th:only-of-type {\n",
       "        vertical-align: middle;\n",
       "    }\n",
       "\n",
       "    .dataframe tbody tr th {\n",
       "        vertical-align: top;\n",
       "    }\n",
       "\n",
       "    .dataframe thead th {\n",
       "        text-align: right;\n",
       "    }\n",
       "</style>\n",
       "<table border=\"1\" class=\"dataframe\">\n",
       "  <thead>\n",
       "    <tr style=\"text-align: right;\">\n",
       "      <th></th>\n",
       "      <th>Course Name</th>\n",
       "      <th>Timestamp</th>\n",
       "      <th>Rating</th>\n",
       "      <th>Comment</th>\n",
       "      <th>Day</th>\n",
       "    </tr>\n",
       "  </thead>\n",
       "  <tbody>\n",
       "    <tr>\n",
       "      <th>0</th>\n",
       "      <td>The Python Mega Course: Build 10 Real World Ap...</td>\n",
       "      <td>2021-04-02 06:25:52+00:00</td>\n",
       "      <td>4.0</td>\n",
       "      <td>NaN</td>\n",
       "      <td>2021-04-02</td>\n",
       "    </tr>\n",
       "    <tr>\n",
       "      <th>1</th>\n",
       "      <td>The Python Mega Course: Build 10 Real World Ap...</td>\n",
       "      <td>2021-04-02 05:12:34+00:00</td>\n",
       "      <td>4.0</td>\n",
       "      <td>NaN</td>\n",
       "      <td>2021-04-02</td>\n",
       "    </tr>\n",
       "    <tr>\n",
       "      <th>2</th>\n",
       "      <td>The Python Mega Course: Build 10 Real World Ap...</td>\n",
       "      <td>2021-04-02 05:11:03+00:00</td>\n",
       "      <td>4.0</td>\n",
       "      <td>NaN</td>\n",
       "      <td>2021-04-02</td>\n",
       "    </tr>\n",
       "    <tr>\n",
       "      <th>3</th>\n",
       "      <td>The Python Mega Course: Build 10 Real World Ap...</td>\n",
       "      <td>2021-04-02 03:33:24+00:00</td>\n",
       "      <td>5.0</td>\n",
       "      <td>NaN</td>\n",
       "      <td>2021-04-02</td>\n",
       "    </tr>\n",
       "    <tr>\n",
       "      <th>4</th>\n",
       "      <td>The Python Mega Course: Build 10 Real World Ap...</td>\n",
       "      <td>2021-04-02 03:31:49+00:00</td>\n",
       "      <td>4.5</td>\n",
       "      <td>NaN</td>\n",
       "      <td>2021-04-02</td>\n",
       "    </tr>\n",
       "    <tr>\n",
       "      <th>...</th>\n",
       "      <td>...</td>\n",
       "      <td>...</td>\n",
       "      <td>...</td>\n",
       "      <td>...</td>\n",
       "      <td>...</td>\n",
       "    </tr>\n",
       "    <tr>\n",
       "      <th>44954</th>\n",
       "      <td>Data Processing with Python</td>\n",
       "      <td>2018-01-01 23:36:07+00:00</td>\n",
       "      <td>4.5</td>\n",
       "      <td>might have had a mac installation tutorial also</td>\n",
       "      <td>2018-01-01</td>\n",
       "    </tr>\n",
       "    <tr>\n",
       "      <th>44955</th>\n",
       "      <td>Python for Beginners with Examples</td>\n",
       "      <td>2018-01-01 22:52:26+00:00</td>\n",
       "      <td>4.0</td>\n",
       "      <td>Excellent for beginners.</td>\n",
       "      <td>2018-01-01</td>\n",
       "    </tr>\n",
       "    <tr>\n",
       "      <th>44956</th>\n",
       "      <td>The Python Mega Course: Build 10 Real World Ap...</td>\n",
       "      <td>2018-01-01 22:14:08+00:00</td>\n",
       "      <td>4.5</td>\n",
       "      <td>NaN</td>\n",
       "      <td>2018-01-01</td>\n",
       "    </tr>\n",
       "    <tr>\n",
       "      <th>44957</th>\n",
       "      <td>The Python Mega Course: Build 10 Real World Ap...</td>\n",
       "      <td>2018-01-01 21:35:13+00:00</td>\n",
       "      <td>5.0</td>\n",
       "      <td>i like how thorough it is</td>\n",
       "      <td>2018-01-01</td>\n",
       "    </tr>\n",
       "    <tr>\n",
       "      <th>44958</th>\n",
       "      <td>The Python Mega Course: Build 10 Real World Ap...</td>\n",
       "      <td>2018-01-01 21:09:24+00:00</td>\n",
       "      <td>3.5</td>\n",
       "      <td>NaN</td>\n",
       "      <td>2018-01-01</td>\n",
       "    </tr>\n",
       "  </tbody>\n",
       "</table>\n",
       "<p>5940 rows × 5 columns</p>\n",
       "</div>"
      ],
      "text/plain": [
       "                                             Course Name  \\\n",
       "0      The Python Mega Course: Build 10 Real World Ap...   \n",
       "1      The Python Mega Course: Build 10 Real World Ap...   \n",
       "2      The Python Mega Course: Build 10 Real World Ap...   \n",
       "3      The Python Mega Course: Build 10 Real World Ap...   \n",
       "4      The Python Mega Course: Build 10 Real World Ap...   \n",
       "...                                                  ...   \n",
       "44954                        Data Processing with Python   \n",
       "44955                 Python for Beginners with Examples   \n",
       "44956  The Python Mega Course: Build 10 Real World Ap...   \n",
       "44957  The Python Mega Course: Build 10 Real World Ap...   \n",
       "44958  The Python Mega Course: Build 10 Real World Ap...   \n",
       "\n",
       "                      Timestamp  Rating  \\\n",
       "0     2021-04-02 06:25:52+00:00     4.0   \n",
       "1     2021-04-02 05:12:34+00:00     4.0   \n",
       "2     2021-04-02 05:11:03+00:00     4.0   \n",
       "3     2021-04-02 03:33:24+00:00     5.0   \n",
       "4     2021-04-02 03:31:49+00:00     4.5   \n",
       "...                         ...     ...   \n",
       "44954 2018-01-01 23:36:07+00:00     4.5   \n",
       "44955 2018-01-01 22:52:26+00:00     4.0   \n",
       "44956 2018-01-01 22:14:08+00:00     4.5   \n",
       "44957 2018-01-01 21:35:13+00:00     5.0   \n",
       "44958 2018-01-01 21:09:24+00:00     3.5   \n",
       "\n",
       "                                               Comment         Day  \n",
       "0                                                  NaN  2021-04-02  \n",
       "1                                                  NaN  2021-04-02  \n",
       "2                                                  NaN  2021-04-02  \n",
       "3                                                  NaN  2021-04-02  \n",
       "4                                                  NaN  2021-04-02  \n",
       "...                                                ...         ...  \n",
       "44954  might have had a mac installation tutorial also  2018-01-01  \n",
       "44955                         Excellent for beginners.  2018-01-01  \n",
       "44956                                              NaN  2018-01-01  \n",
       "44957                        i like how thorough it is  2018-01-01  \n",
       "44958                                              NaN  2018-01-01  \n",
       "\n",
       "[5940 rows x 5 columns]"
      ]
     },
     "execution_count": 12,
     "metadata": {},
     "output_type": "execute_result"
    }
   ],
   "source": [
    "data['Day'] = data['Timestamp'].dt.date\n",
    "day_average = data.groupby(['Day'])\n",
    "day_average.head()"
   ]
  },
  {
   "cell_type": "code",
   "execution_count": 15,
   "metadata": {},
   "outputs": [
    {
     "data": {
      "text/html": [
       "<div>\n",
       "<style scoped>\n",
       "    .dataframe tbody tr th:only-of-type {\n",
       "        vertical-align: middle;\n",
       "    }\n",
       "\n",
       "    .dataframe tbody tr th {\n",
       "        vertical-align: top;\n",
       "    }\n",
       "\n",
       "    .dataframe thead th {\n",
       "        text-align: right;\n",
       "    }\n",
       "</style>\n",
       "<table border=\"1\" class=\"dataframe\">\n",
       "  <thead>\n",
       "    <tr style=\"text-align: right;\">\n",
       "      <th></th>\n",
       "      <th>Rating</th>\n",
       "    </tr>\n",
       "    <tr>\n",
       "      <th>Day</th>\n",
       "      <th></th>\n",
       "    </tr>\n",
       "  </thead>\n",
       "  <tbody>\n",
       "    <tr>\n",
       "      <th>2018-01-01</th>\n",
       "      <td>4.532609</td>\n",
       "    </tr>\n",
       "    <tr>\n",
       "      <th>2018-01-02</th>\n",
       "      <td>4.122807</td>\n",
       "    </tr>\n",
       "    <tr>\n",
       "      <th>2018-01-03</th>\n",
       "      <td>4.360465</td>\n",
       "    </tr>\n",
       "    <tr>\n",
       "      <th>2018-01-04</th>\n",
       "      <td>4.531250</td>\n",
       "    </tr>\n",
       "    <tr>\n",
       "      <th>2018-01-05</th>\n",
       "      <td>4.423077</td>\n",
       "    </tr>\n",
       "    <tr>\n",
       "      <th>...</th>\n",
       "      <td>...</td>\n",
       "    </tr>\n",
       "    <tr>\n",
       "      <th>2021-03-29</th>\n",
       "      <td>4.240000</td>\n",
       "    </tr>\n",
       "    <tr>\n",
       "      <th>2021-03-30</th>\n",
       "      <td>4.428571</td>\n",
       "    </tr>\n",
       "    <tr>\n",
       "      <th>2021-03-31</th>\n",
       "      <td>4.453125</td>\n",
       "    </tr>\n",
       "    <tr>\n",
       "      <th>2021-04-01</th>\n",
       "      <td>4.592593</td>\n",
       "    </tr>\n",
       "    <tr>\n",
       "      <th>2021-04-02</th>\n",
       "      <td>4.357143</td>\n",
       "    </tr>\n",
       "  </tbody>\n",
       "</table>\n",
       "<p>1188 rows × 1 columns</p>\n",
       "</div>"
      ],
      "text/plain": [
       "              Rating\n",
       "Day                 \n",
       "2018-01-01  4.532609\n",
       "2018-01-02  4.122807\n",
       "2018-01-03  4.360465\n",
       "2018-01-04  4.531250\n",
       "2018-01-05  4.423077\n",
       "...              ...\n",
       "2021-03-29  4.240000\n",
       "2021-03-30  4.428571\n",
       "2021-03-31  4.453125\n",
       "2021-04-01  4.592593\n",
       "2021-04-02  4.357143\n",
       "\n",
       "[1188 rows x 1 columns]"
      ]
     },
     "execution_count": 15,
     "metadata": {},
     "output_type": "execute_result"
    }
   ],
   "source": [
    "day_average.mean()"
   ]
  },
  {
   "cell_type": "code",
   "execution_count": 17,
   "metadata": {},
   "outputs": [
    {
     "data": {
      "text/plain": [
       "[<matplotlib.lines.Line2D at 0x11bdd8d90>]"
      ]
     },
     "execution_count": 17,
     "metadata": {},
     "output_type": "execute_result"
    },
    {
     "data": {
      "image/png": "[encoded data removed]",
      "text/plain": [
       "<Figure size 1800x216 with 1 Axes>"
      ]
     },
     "metadata": {
      "needs_background": "light"
     },
     "output_type": "display_data"
    }
   ],
   "source": [
    "data['Day'] = data['Timestamp'].dt.date\n",
    "day_average = data.groupby(['Day']).mean()\n",
    "plt.figure(figsize=(25,3))\n",
    "plt.plot(day_average.index, day_average['Rating'])"
   ]
  },
  {
   "cell_type": "code",
   "execution_count": 30,
   "metadata": {},
   "outputs": [
    {
     "data": {
      "text/plain": [
       "[<matplotlib.lines.Line2D at 0x11bf9e9a0>]"
      ]
     },
     "execution_count": 30,
     "metadata": {},
     "output_type": "execute_result"
    },
    {
     "data": {
      "image/png": "[encoded data removed]",
      "text/plain": [
       "<Figure size 1800x216 with 1 Axes>"
      ]
     },
     "metadata": {
      "needs_background": "light"
     },
     "output_type": "display_data"
    }
   ],
   "source": [
    "data['Week'] = data['Timestamp'].dt.isocalendar().week #strftime('%m %U')\n",
    "week_average = data.groupby(['Week']).mean()\n",
    "plt.figure(figsize=(25,3))\n",
    "plt.plot(week_average.index, week_average['Rating'])"
   ]
  },
  {
   "cell_type": "code",
   "execution_count": 32,
   "metadata": {},
   "outputs": [
    {
     "data": {
      "text/plain": [
       "[<matplotlib.lines.Line2D at 0x11be2db50>]"
      ]
     },
     "execution_count": 32,
     "metadata": {},
     "output_type": "execute_result"
    },
    {
     "data": {
      "image/png": "[encoded data removed]",
      "text/plain": [
       "<Figure size 1800x216 with 1 Axes>"
      ]
     },
     "metadata": {
      "needs_background": "light"
     },
     "output_type": "display_data"
    }
   ],
   "source": [
    "data['Month'] = data['Timestamp'].dt.month #strftime('%m %U')\n",
    "month_average = data.groupby(['Month']).mean()\n",
    "plt.figure(figsize=(25,3))\n",
    "plt.plot(month_average.index, month_average['Rating'])"
   ]
  },
  {
   "cell_type": "code",
   "execution_count": 66,
   "metadata": {},
   "outputs": [
    {
     "data": {
      "text/plain": [
       "Month  Course Name                                              \n",
       "1      100 Python Exercises I: Evaluate and Improve Your Skills     4.250000\n",
       "       100 Python Exercises II: Evaluate and Improve Your Skills    4.576923\n",
       "       Data Processing with Python                                  4.223529\n",
       "       Interactive Data Visualization with Python and Bokeh         4.237374\n",
       "       Learn GIS in One Hour                                        4.095890\n",
       "                                                                      ...   \n",
       "12     Data Processing with Python                                  4.115385\n",
       "       Interactive Data Visualization with Python and Bokeh         4.362500\n",
       "       Learn GIS in One Hour                                        4.142857\n",
       "       Python for Beginners with Examples                           4.409524\n",
       "       The Python Mega Course: Build 10 Real World Applications     4.468303\n",
       "Name: Rating, Length: 88, dtype: float64"
      ]
     },
     "execution_count": 66,
     "metadata": {},
     "output_type": "execute_result"
    }
   ],
   "source": [
    "data['Month'] = data['Timestamp'].dt.month\n",
    "month_average = data.groupby(['Month', 'Course Name'])['Rating'].mean()\n",
    "data.groupby(['Month', 'Course Name'])['Rating'].mean()"
   ]
  },
  {
   "cell_type": "code",
   "execution_count": 42,
   "metadata": {},
   "outputs": [
    {
     "data": {
      "text/html": [
       "<div>\n",
       "<style scoped>\n",
       "    .dataframe tbody tr th:only-of-type {\n",
       "        vertical-align: middle;\n",
       "    }\n",
       "\n",
       "    .dataframe tbody tr th {\n",
       "        vertical-align: top;\n",
       "    }\n",
       "\n",
       "    .dataframe thead th {\n",
       "        text-align: right;\n",
       "    }\n",
       "</style>\n",
       "<table border=\"1\" class=\"dataframe\">\n",
       "  <thead>\n",
       "    <tr style=\"text-align: right;\">\n",
       "      <th></th>\n",
       "      <th></th>\n",
       "      <th>Rating</th>\n",
       "      <th>Week</th>\n",
       "    </tr>\n",
       "    <tr>\n",
       "      <th>Month</th>\n",
       "      <th>Course Name</th>\n",
       "      <th></th>\n",
       "      <th></th>\n",
       "    </tr>\n",
       "  </thead>\n",
       "  <tbody>\n",
       "    <tr>\n",
       "      <th rowspan=\"5\" valign=\"top\">1</th>\n",
       "      <th>100 Python Exercises I: Evaluate and Improve Your Skills</th>\n",
       "      <td>4.250000</td>\n",
       "      <td>3.626437</td>\n",
       "    </tr>\n",
       "    <tr>\n",
       "      <th>100 Python Exercises II: Evaluate and Improve Your Skills</th>\n",
       "      <td>4.576923</td>\n",
       "      <td>2.423077</td>\n",
       "    </tr>\n",
       "    <tr>\n",
       "      <th>Data Processing with Python</th>\n",
       "      <td>4.223529</td>\n",
       "      <td>4.541176</td>\n",
       "    </tr>\n",
       "    <tr>\n",
       "      <th>Interactive Data Visualization with Python and Bokeh</th>\n",
       "      <td>4.237374</td>\n",
       "      <td>3.212121</td>\n",
       "    </tr>\n",
       "    <tr>\n",
       "      <th>Learn GIS in One Hour</th>\n",
       "      <td>4.095890</td>\n",
       "      <td>4.164384</td>\n",
       "    </tr>\n",
       "  </tbody>\n",
       "</table>\n",
       "</div>"
      ],
      "text/plain": [
       "                                                            Rating      Week\n",
       "Month Course Name                                                           \n",
       "1     100 Python Exercises I: Evaluate and Improve Yo...  4.250000  3.626437\n",
       "      100 Python Exercises II: Evaluate and Improve Y...  4.576923  2.423077\n",
       "      Data Processing with Python                         4.223529  4.541176\n",
       "      Interactive Data Visualization with Python and ...  4.237374  3.212121\n",
       "      Learn GIS in One Hour                               4.095890  4.164384"
      ]
     },
     "execution_count": 42,
     "metadata": {},
     "output_type": "execute_result"
    }
   ],
   "source": [
    "month_average.head()"
   ]
  },
  {
   "cell_type": "code",
   "execution_count": 43,
   "metadata": {},
   "outputs": [
    {
     "data": {
      "text/html": [
       "<div>\n",
       "<style scoped>\n",
       "    .dataframe tbody tr th:only-of-type {\n",
       "        vertical-align: middle;\n",
       "    }\n",
       "\n",
       "    .dataframe tbody tr th {\n",
       "        vertical-align: top;\n",
       "    }\n",
       "\n",
       "    .dataframe thead tr th {\n",
       "        text-align: left;\n",
       "    }\n",
       "\n",
       "    .dataframe thead tr:last-of-type th {\n",
       "        text-align: right;\n",
       "    }\n",
       "</style>\n",
       "<table border=\"1\" class=\"dataframe\">\n",
       "  <thead>\n",
       "    <tr>\n",
       "      <th></th>\n",
       "      <th colspan=\"8\" halign=\"left\">Rating</th>\n",
       "      <th colspan=\"8\" halign=\"left\">Week</th>\n",
       "    </tr>\n",
       "    <tr>\n",
       "      <th>Course Name</th>\n",
       "      <th>100 Python Exercises I: Evaluate and Improve Your Skills</th>\n",
       "      <th>100 Python Exercises II: Evaluate and Improve Your Skills</th>\n",
       "      <th>Data Processing with Python</th>\n",
       "      <th>Interactive Data Visualization with Python and Bokeh</th>\n",
       "      <th>Learn GIS in One Hour</th>\n",
       "      <th>Python for Beginners with Examples</th>\n",
       "      <th>The Complete Python Course: Build 10 Professional OOP Apps</th>\n",
       "      <th>The Python Mega Course: Build 10 Real World Applications</th>\n",
       "      <th>100 Python Exercises I: Evaluate and Improve Your Skills</th>\n",
       "      <th>100 Python Exercises II: Evaluate and Improve Your Skills</th>\n",
       "      <th>Data Processing with Python</th>\n",
       "      <th>Interactive Data Visualization with Python and Bokeh</th>\n",
       "      <th>Learn GIS in One Hour</th>\n",
       "      <th>Python for Beginners with Examples</th>\n",
       "      <th>The Complete Python Course: Build 10 Professional OOP Apps</th>\n",
       "      <th>The Python Mega Course: Build 10 Real World Applications</th>\n",
       "    </tr>\n",
       "    <tr>\n",
       "      <th>Month</th>\n",
       "      <th></th>\n",
       "      <th></th>\n",
       "      <th></th>\n",
       "      <th></th>\n",
       "      <th></th>\n",
       "      <th></th>\n",
       "      <th></th>\n",
       "      <th></th>\n",
       "      <th></th>\n",
       "      <th></th>\n",
       "      <th></th>\n",
       "      <th></th>\n",
       "      <th></th>\n",
       "      <th></th>\n",
       "      <th></th>\n",
       "      <th></th>\n",
       "    </tr>\n",
       "  </thead>\n",
       "  <tbody>\n",
       "    <tr>\n",
       "      <th>1</th>\n",
       "      <td>4.250000</td>\n",
       "      <td>4.576923</td>\n",
       "      <td>4.223529</td>\n",
       "      <td>4.237374</td>\n",
       "      <td>4.095890</td>\n",
       "      <td>4.350418</td>\n",
       "      <td>4.650000</td>\n",
       "      <td>4.480571</td>\n",
       "      <td>3.626437</td>\n",
       "      <td>2.423077</td>\n",
       "      <td>4.541176</td>\n",
       "      <td>3.212121</td>\n",
       "      <td>4.164384</td>\n",
       "      <td>3.393305</td>\n",
       "      <td>2.988235</td>\n",
       "      <td>3.651919</td>\n",
       "    </tr>\n",
       "    <tr>\n",
       "      <th>2</th>\n",
       "      <td>4.292308</td>\n",
       "      <td>4.264706</td>\n",
       "      <td>4.170886</td>\n",
       "      <td>4.280702</td>\n",
       "      <td>4.114286</td>\n",
       "      <td>4.322619</td>\n",
       "      <td>4.656463</td>\n",
       "      <td>4.475856</td>\n",
       "      <td>7.176923</td>\n",
       "      <td>7.0</td>\n",
       "      <td>6.974684</td>\n",
       "      <td>6.877193</td>\n",
       "      <td>7.342857</td>\n",
       "      <td>6.988095</td>\n",
       "      <td>6.564626</td>\n",
       "      <td>6.968151</td>\n",
       "    </tr>\n",
       "    <tr>\n",
       "      <th>3</th>\n",
       "      <td>4.313609</td>\n",
       "      <td>4.656250</td>\n",
       "      <td>4.263889</td>\n",
       "      <td>4.390411</td>\n",
       "      <td>4.138298</td>\n",
       "      <td>4.311957</td>\n",
       "      <td>4.570470</td>\n",
       "      <td>4.488987</td>\n",
       "      <td>11.56213</td>\n",
       "      <td>10.8125</td>\n",
       "      <td>11.875</td>\n",
       "      <td>11.287671</td>\n",
       "      <td>11.723404</td>\n",
       "      <td>11.413043</td>\n",
       "      <td>10.771812</td>\n",
       "      <td>11.488693</td>\n",
       "    </tr>\n",
       "    <tr>\n",
       "      <th>4</th>\n",
       "      <td>4.361290</td>\n",
       "      <td>4.538462</td>\n",
       "      <td>4.102410</td>\n",
       "      <td>4.388060</td>\n",
       "      <td>3.833333</td>\n",
       "      <td>4.341996</td>\n",
       "      <td>4.250000</td>\n",
       "      <td>4.505682</td>\n",
       "      <td>15.587097</td>\n",
       "      <td>15.769231</td>\n",
       "      <td>15.771084</td>\n",
       "      <td>15.537313</td>\n",
       "      <td>15.8125</td>\n",
       "      <td>15.509356</td>\n",
       "      <td>13.0</td>\n",
       "      <td>15.668612</td>\n",
       "    </tr>\n",
       "    <tr>\n",
       "      <th>5</th>\n",
       "      <td>4.376471</td>\n",
       "      <td>4.568182</td>\n",
       "      <td>4.065217</td>\n",
       "      <td>4.206667</td>\n",
       "      <td>4.152174</td>\n",
       "      <td>4.350763</td>\n",
       "      <td>NaN</td>\n",
       "      <td>4.453413</td>\n",
       "      <td>19.988235</td>\n",
       "      <td>20.272727</td>\n",
       "      <td>20.206522</td>\n",
       "      <td>19.973333</td>\n",
       "      <td>20.086957</td>\n",
       "      <td>19.895425</td>\n",
       "      <td>&lt;NA&gt;</td>\n",
       "      <td>20.069147</td>\n",
       "    </tr>\n",
       "  </tbody>\n",
       "</table>\n",
       "</div>"
      ],
      "text/plain": [
       "                                                              Rating  \\\n",
       "Course Name 100 Python Exercises I: Evaluate and Improve Your Skills   \n",
       "Month                                                                  \n",
       "1                                                     4.250000         \n",
       "2                                                     4.292308         \n",
       "3                                                     4.313609         \n",
       "4                                                     4.361290         \n",
       "5                                                     4.376471         \n",
       "\n",
       "                                                                       \\\n",
       "Course Name 100 Python Exercises II: Evaluate and Improve Your Skills   \n",
       "Month                                                                   \n",
       "1                                                     4.576923          \n",
       "2                                                     4.264706          \n",
       "3                                                     4.656250          \n",
       "4                                                     4.538462          \n",
       "5                                                     4.568182          \n",
       "\n",
       "                                         \\\n",
       "Course Name Data Processing with Python   \n",
       "Month                                     \n",
       "1                              4.223529   \n",
       "2                              4.170886   \n",
       "3                              4.263889   \n",
       "4                              4.102410   \n",
       "5                              4.065217   \n",
       "\n",
       "                                                                  \\\n",
       "Course Name Interactive Data Visualization with Python and Bokeh   \n",
       "Month                                                              \n",
       "1                                                     4.237374     \n",
       "2                                                     4.280702     \n",
       "3                                                     4.390411     \n",
       "4                                                     4.388060     \n",
       "5                                                     4.206667     \n",
       "\n",
       "                                                                      \\\n",
       "Course Name Learn GIS in One Hour Python for Beginners with Examples   \n",
       "Month                                                                  \n",
       "1                        4.095890                           4.350418   \n",
       "2                        4.114286                           4.322619   \n",
       "3                        4.138298                           4.311957   \n",
       "4                        3.833333                           4.341996   \n",
       "5                        4.152174                           4.350763   \n",
       "\n",
       "                                                                        \\\n",
       "Course Name The Complete Python Course: Build 10 Professional OOP Apps   \n",
       "Month                                                                    \n",
       "1                                                     4.650000           \n",
       "2                                                     4.656463           \n",
       "3                                                     4.570470           \n",
       "4                                                     4.250000           \n",
       "5                                                          NaN           \n",
       "\n",
       "                                                                      \\\n",
       "Course Name The Python Mega Course: Build 10 Real World Applications   \n",
       "Month                                                                  \n",
       "1                                                     4.480571         \n",
       "2                                                     4.475856         \n",
       "3                                                     4.488987         \n",
       "4                                                     4.505682         \n",
       "5                                                     4.453413         \n",
       "\n",
       "                                                                Week  \\\n",
       "Course Name 100 Python Exercises I: Evaluate and Improve Your Skills   \n",
       "Month                                                                  \n",
       "1                                                     3.626437         \n",
       "2                                                     7.176923         \n",
       "3                                                     11.56213         \n",
       "4                                                    15.587097         \n",
       "5                                                    19.988235         \n",
       "\n",
       "                                                                       \\\n",
       "Course Name 100 Python Exercises II: Evaluate and Improve Your Skills   \n",
       "Month                                                                   \n",
       "1                                                     2.423077          \n",
       "2                                                          7.0          \n",
       "3                                                      10.8125          \n",
       "4                                                    15.769231          \n",
       "5                                                    20.272727          \n",
       "\n",
       "                                         \\\n",
       "Course Name Data Processing with Python   \n",
       "Month                                     \n",
       "1                              4.541176   \n",
       "2                              6.974684   \n",
       "3                                11.875   \n",
       "4                             15.771084   \n",
       "5                             20.206522   \n",
       "\n",
       "                                                                  \\\n",
       "Course Name Interactive Data Visualization with Python and Bokeh   \n",
       "Month                                                              \n",
       "1                                                     3.212121     \n",
       "2                                                     6.877193     \n",
       "3                                                    11.287671     \n",
       "4                                                    15.537313     \n",
       "5                                                    19.973333     \n",
       "\n",
       "                                                                      \\\n",
       "Course Name Learn GIS in One Hour Python for Beginners with Examples   \n",
       "Month                                                                  \n",
       "1                        4.164384                           3.393305   \n",
       "2                        7.342857                           6.988095   \n",
       "3                       11.723404                          11.413043   \n",
       "4                         15.8125                          15.509356   \n",
       "5                       20.086957                          19.895425   \n",
       "\n",
       "                                                                        \\\n",
       "Course Name The Complete Python Course: Build 10 Professional OOP Apps   \n",
       "Month                                                                    \n",
       "1                                                     2.988235           \n",
       "2                                                     6.564626           \n",
       "3                                                    10.771812           \n",
       "4                                                         13.0           \n",
       "5                                                         <NA>           \n",
       "\n",
       "                                                                      \n",
       "Course Name The Python Mega Course: Build 10 Real World Applications  \n",
       "Month                                                                 \n",
       "1                                                     3.651919        \n",
       "2                                                     6.968151        \n",
       "3                                                    11.488693        \n",
       "4                                                    15.668612        \n",
       "5                                                    20.069147        "
      ]
     },
     "execution_count": 43,
     "metadata": {},
     "output_type": "execute_result"
    }
   ],
   "source": [
    "month_average.unstack().head()"
   ]
  },
  {
   "cell_type": "code",
   "execution_count": 52,
   "metadata": {},
   "outputs": [
    {
     "data": {
      "text/plain": [
       "<AxesSubplot:xlabel='Month'>"
      ]
     },
     "execution_count": 52,
     "metadata": {},
     "output_type": "execute_result"
    },
    {
     "data": {
      "image/png": "[encoded data removed]",
      "text/plain": [
       "<Figure size 1800x576 with 1 Axes>"
      ]
     },
     "metadata": {
      "needs_background": "light"
     },
     "output_type": "display_data"
    }
   ],
   "source": [
    "data['Month'] = data['Timestamp'].dt.month\n",
    "month_average = data.groupby(['Month', 'Course Name'])['Rating'].mean().unstack()\n",
    "month_average.plot(figsize=(25,8))"
   ]
  },
  {
   "cell_type": "code",
   "execution_count": 7,
   "metadata": {},
   "outputs": [
    {
     "data": {
      "text/plain": [
       "<AxesSubplot:xlabel='Weekday'>"
      ]
     },
     "execution_count": 7,
     "metadata": {},
     "output_type": "execute_result"
    },
    {
     "data": {
      "image/png": "[encoded data removed]",
      "text/plain": [
       "<Figure size 1800x576 with 1 Axes>"
      ]
     },
     "metadata": {
      "needs_background": "light"
     },
     "output_type": "display_data"
    }
   ],
   "source": [
    "data['Weekday'] = data['Timestamp'].dt.strftime('%A')\n",
    "weekday_average = data.groupby(['Weekday']).mean()\n",
    "weekday_average = weekday_average.sort_values('Weekday')\n",
    "weekday_average.plot(figsize=(25,8))"
   ]
  },
  {
   "cell_type": "code",
   "execution_count": 6,
   "metadata": {},
   "outputs": [
    {
     "data": {
      "text/html": [
       "<div>\n",
       "<style scoped>\n",
       "    .dataframe tbody tr th:only-of-type {\n",
       "        vertical-align: middle;\n",
       "    }\n",
       "\n",
       "    .dataframe tbody tr th {\n",
       "        vertical-align: top;\n",
       "    }\n",
       "\n",
       "    .dataframe thead th {\n",
       "        text-align: right;\n",
       "    }\n",
       "</style>\n",
       "<table border=\"1\" class=\"dataframe\">\n",
       "  <thead>\n",
       "    <tr style=\"text-align: right;\">\n",
       "      <th></th>\n",
       "      <th>Rating</th>\n",
       "    </tr>\n",
       "    <tr>\n",
       "      <th>Weekday</th>\n",
       "      <th></th>\n",
       "    </tr>\n",
       "  </thead>\n",
       "  <tbody>\n",
       "    <tr>\n",
       "      <th>Friday</th>\n",
       "      <td>4.455207</td>\n",
       "    </tr>\n",
       "    <tr>\n",
       "      <th>Monday</th>\n",
       "      <td>4.449335</td>\n",
       "    </tr>\n",
       "    <tr>\n",
       "      <th>Saturday</th>\n",
       "      <td>4.440274</td>\n",
       "    </tr>\n",
       "    <tr>\n",
       "      <th>Sunday</th>\n",
       "      <td>4.439097</td>\n",
       "    </tr>\n",
       "    <tr>\n",
       "      <th>Thursday</th>\n",
       "      <td>4.437880</td>\n",
       "    </tr>\n",
       "    <tr>\n",
       "      <th>Tuesday</th>\n",
       "      <td>4.446240</td>\n",
       "    </tr>\n",
       "    <tr>\n",
       "      <th>Wednesday</th>\n",
       "      <td>4.427452</td>\n",
       "    </tr>\n",
       "  </tbody>\n",
       "</table>\n",
       "</div>"
      ],
      "text/plain": [
       "             Rating\n",
       "Weekday            \n",
       "Friday     4.455207\n",
       "Monday     4.449335\n",
       "Saturday   4.440274\n",
       "Sunday     4.439097\n",
       "Thursday   4.437880\n",
       "Tuesday    4.446240\n",
       "Wednesday  4.427452"
      ]
     },
     "execution_count": 6,
     "metadata": {},
     "output_type": "execute_result"
    }
   ],
   "source": [
    "weekday_average"
   ]
  },
  {
   "cell_type": "code",
   "execution_count": 13,
   "metadata": {},
   "outputs": [
    {
     "name": "stdout",
     "output_type": "stream",
     "text": [
      "Course Name\n",
      "100 Python Exercises I: Evaluate and Improve Your Skills       1593\n",
      "100 Python Exercises II: Evaluate and Improve Your Skills       280\n",
      "Data Processing with Python                                     868\n",
      "Interactive Data Visualization with Python and Bokeh            767\n",
      "Learn GIS in One Hour                                           499\n",
      "Python for Beginners with Examples                             4821\n",
      "The Complete Python Course: Build 10 Professional OOP Apps      470\n",
      "The Python Mega Course: Build 10 Real World Applications      35702\n",
      "Name: Rating, dtype: int64\n"
     ]
    },
    {
     "data": {
      "text/plain": [
       "([<matplotlib.patches.Wedge at 0x119767490>,\n",
       "  <matplotlib.patches.Wedge at 0x119767970>,\n",
       "  <matplotlib.patches.Wedge at 0x119767df0>,\n",
       "  <matplotlib.patches.Wedge at 0x1197752b0>,\n",
       "  <matplotlib.patches.Wedge at 0x119775730>,\n",
       "  <matplotlib.patches.Wedge at 0x119775bb0>,\n",
       "  <matplotlib.patches.Wedge at 0x119775fd0>,\n",
       "  <matplotlib.patches.Wedge at 0x1197844f0>],\n",
       " [Text(1.0932045021416132, 0.12208159770132226, '100 Python Exercises I: Evaluate and Improve Your Skills'),\n",
       "  Text(1.0679539537181753, 0.26357987923534204, '100 Python Exercises II: Evaluate and Improve Your Skills'),\n",
       "  Text(1.0434237552357248, 0.34823392570193146, 'Data Processing with Python'),\n",
       "  Text(0.9969710234481678, 0.46481047579063145, 'Interactive Data Visualization with Python and Bokeh'),\n",
       "  Text(0.9520514707070057, 0.5509972750609823, 'Learn GIS in One Hour'),\n",
       "  Text(0.6871674297354248, 0.858953388438983, 'Python for Beginners with Examples'),\n",
       "  Text(0.3307031314068022, 1.0491117380325774, 'The Complete Python Course: Build 10 Professional OOP Apps'),\n",
       "  Text(-0.8762757995015485, -0.6649366309716455, 'The Python Mega Course: Build 10 Real World Applications')])"
      ]
     },
     "execution_count": 13,
     "metadata": {},
     "output_type": "execute_result"
    },
    {
     "data": {
      "image/png": "[encoded data removed]",
      "text/plain": [
       "<Figure size 432x288 with 1 Axes>"
      ]
     },
     "metadata": {},
     "output_type": "display_data"
    }
   ],
   "source": [
    "share = data.groupby(['Course Name'])['Rating'].count()\n",
    "print(share)\n",
    "plt.pie(share, labels=share.index)"
   ]
  },
  {
   "cell_type": "code",
   "execution_count": null,
   "metadata": {},
   "outputs": [],
   "source": []
  }
 ],
 "metadata": {
  "kernelspec": {
   "display_name": "Python 3 (ipykernel)",
   "language": "python",
   "name": "python3"
  },
  "language_info": {
   "codemirror_mode": {
    "name": "ipython",
    "version": 3
   },
   "file_extension": ".py",
   "mimetype": "text/x-python",
   "name": "python",
   "nbconvert_exporter": "python",
   "pygments_lexer": "ipython3",
   "version": "3.9.6"
  }
 },
 "nbformat": 4,
 "nbformat_minor": 4
}
